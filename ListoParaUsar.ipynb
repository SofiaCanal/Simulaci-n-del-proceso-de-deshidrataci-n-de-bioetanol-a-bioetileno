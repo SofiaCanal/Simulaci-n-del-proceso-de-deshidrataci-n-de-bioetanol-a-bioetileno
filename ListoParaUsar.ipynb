{
 "cells": [
  {
   "cell_type": "markdown",
   "id": "37b9c23c",
   "metadata": {},
   "source": [
    "<img src=\"./imagenes/LogoDoble_UPM.png\">"
   ]
  },
  {
   "cell_type": "markdown",
   "id": "dce0142d",
   "metadata": {},
   "source": [
    "## Programa para el desarrollo de la simulación de un proceso de deshidratación de bioetanol para producir bioetileno \n",
    "\n",
    "\n",
    "© **Sofía Canal Merino**, **[Universidad Politécnica de Madrid](http://www.upm.es)**, 2023\n",
    "\n",
    "En este notebook se muestra la resolución del balance de materia de un sistema con múltiples reacciones químicas y reactores distinguiendo entre una aproximación modular frente a una secuencial. El problema está basado en el estudio: *Ethylene from renewable ethanol: Process optimization and economic feasibility assessment*. Llevado a cabo por el equipo de Plantas Químicas y Química Industrial del departamento de Química de la universidad de Milán.\n",
    "\n",
    "Frosi M, Tripodi A, Conte F, Ramis G, Mahinpey N, Rossetti I. Ethylene from renewable ethanol: Process optimization and economic feasibility assessment. Journal of Industrial and Engineering Chemistry. 2021 Dec 25;104:272–85"
   ]
  },
  {
   "cell_type": "markdown",
   "id": "d54ae43c",
   "metadata": {},
   "source": [
    "### Enunciado\n",
    "En el proceso de fabricación de bioetileno este se produce por la deshidratación del bioetanol. \n",
    "\n",
    "La alimentación a la planta consiste en una corriente de 165 t/h de etanol y agua, con un 25% del primero. Esta corriente se hace pasar por un primer reactor. La salida de este se mezcla con la recirculación del proceso y se introduce en dos reactores en serie. La corriente de salida del último reactor se enfría y se pasa por dos separadores, de los cuales se obtiene la corriente final de etileno y una de purga.\n",
    "\n",
    "El proceso es el que se muestra en la siguiente imagen:\n",
    "\n",
    "<img src=\"./imagenes/ProcesoGlobal.png\">\n",
    "\n",
    "La reacción principal es:\n",
    "\n",
    "$$C_2 H_5 OH \\rightarrow C_2 H_4+ H_2 O$$ \n",
    "\n",
    "Además, el mecanismo se puede llevar a cabo a través de las dos reacciones siguientes:\n",
    "\n",
    "$$2C_2 H_5 OH \\rightarrow C_2 H_5 OC_2 H_5  + H_2 O$$\n",
    "\n",
    "$$C_2 H_5 OC_2 H_5  \\rightarrow 2C_2 H_4+ H_2 O$$\n",
    "\n",
    "Asimismo, se producen reacciones secundarias. Por lo que el listado de reacciones linealmente independientes es:\n",
    "\n",
    "\n",
    "$$2C_2 H_5 OH \\rightarrow C_2 H_5 OC_2 H_5  + H_2 O$$\n",
    "\n",
    "$$C_2 H_5 OC_2 H_5  \\rightarrow 2C_2 H_4+ H_2 O$$\n",
    "\n",
    "$$C_2 H_5 OH \\rightarrow CH_3 CHO+ H_2$$\n",
    "\n",
    "$$C_2 H_4 \\rightarrow  1⁄2 C_4 H_8$$\n",
    "\n",
    "$$C_2 H_5 OH \\rightarrow CH_4+CO+H_2$$\n",
    "\n",
    "$$C_2 H_5 OH + H_2O \\rightarrow 2CO + 4H_2$$\n",
    "\n",
    "$$CO + H_2O \\rightarrow  CO_2 + H_2$$\n",
    "\n",
    "\n",
    "Las ecuaciones de balance con carácter general son:\n",
    "\n",
    "$$Etanol→ F{entrada}-F{salida}= 2∙ξ_2+ ξ_4+ ξ_6+ ξ_7$$\n",
    "\n",
    "$$Dietiléter→ F{entrada}-F{salida}= - ξ_2+ ξ_3$$\n",
    "\n",
    "$$Acetaldehído→ F{entrada}-F{salida}= - ξ_4$$\n",
    "\n",
    "$$Buteno→ F{entrada}-F{salida}= -1⁄2∙ ξ_5$$\n",
    "\n",
    "$$Agua→ F{entrada}-F{salida}=-ξ_2- ξ_3  +  ξ_7+ ξ_8$$\n",
    "\n",
    "$$Monóxido de carbono→ F{entrada}-F{salida}= - ξ_6  -  ξ_7+ ξ_8$$\n",
    "\n",
    "$$Dióxido de carbono→ F{entrada}-F{salida}= - ξ_8$$\n",
    "\n",
    "$$Metano→ F{entrada}-F{salida}= - ξ_6$$\n",
    "\n",
    "$$Hidrógeno→ F{entrada}-F{salida}= - ξ_4  - ξ_6  - 4∙ξ_7  - ξ_8$$\n",
    "\n",
    "$$Etileno→ F{entrada}-F{salida}=  - 2∙ξ_3- ξ_5 $$"
   ]
  },
  {
   "cell_type": "markdown",
   "id": "56138524",
   "metadata": {},
   "source": [
    "Ejecute la celda siguiente para cargar el código"
   ]
  },
  {
   "cell_type": "code",
   "execution_count": 3,
   "id": "e065e084",
   "metadata": {},
   "outputs": [],
   "source": [
    "from Modular import *"
   ]
  },
  {
   "cell_type": "markdown",
   "id": "ff097a84",
   "metadata": {},
   "source": [
    "### Grados de libertad\n",
    "\n",
    "Tal y como se ha comentado en el enunciado, la entrada al primer reactor es una corriente de 165 t/h de etanol y agua con un 25% del primero. En primer lugar, es necesario considerar un análisis de los grados de libertad para conocer cuántas especificaciones se requieren para resolver el balance.\n",
    "\n",
    "Ejecute la siguiente celda y rellene la tabla de grados de libertad.  "
   ]
  },
  {
   "cell_type": "code",
   "execution_count": 4,
   "id": "1f58cd02",
   "metadata": {},
   "outputs": [
    {
     "data": {
      "application/vnd.jupyter.widget-view+json": {
       "model_id": "e9d9b83ebe6f41b4a389d3d52570c03d",
       "version_major": 2,
       "version_minor": 0
      },
      "text/plain": [
       "interactive(children=(IntText(value=12, description='Var. flujo'), IntText(value=7, description='Var. reac.'),…"
      ]
     },
     "metadata": {},
     "output_type": "display_data"
    }
   ],
   "source": [
    "display(TgL1)"
   ]
  },
  {
   "cell_type": "markdown",
   "id": "788e88a7",
   "metadata": {},
   "source": [
    "En la celda siguiente se proporciona la solución para quien lo desee comprobar."
   ]
  },
  {
   "cell_type": "code",
   "execution_count": 5,
   "id": "8ed13c30",
   "metadata": {},
   "outputs": [
    {
     "data": {
      "application/vnd.jupyter.widget-view+json": {
       "model_id": "317c39d007e44d5280955c1a72b60e93",
       "version_major": 2,
       "version_minor": 0
      },
      "text/plain": [
       "Button(description='Mostrar', style=ButtonStyle())"
      ]
     },
     "metadata": {},
     "output_type": "display_data"
    }
   ],
   "source": [
    "RindoTabla('')"
   ]
  },
  {
   "cell_type": "markdown",
   "id": "f3caad99",
   "metadata": {},
   "source": [
    "## PFR 1\n",
    "\n",
    "Para poder resolver el problema son necesarias siete especificaciones ya que: las variables de flujo son doce, dos de entrada al reactor y diez de salida del mismo; las variables de reacción son siete, que son las reacciones linealmente independientes; las ecuaciones de balance son diez ya que intervienen diez compuestos; hay un caudal especificado, el de entrada al reactor y, por último, una composición especificada. Con todo esto, se necesitan siete especificaciones para que el problema se pueda resolver.\n",
    "\n",
    "En este caso se consideran las siguientes restricciones; la conversión del etanol y las composiciones de salida del: dietiléter, acetaldehído, buteno, metano, monóxido de carbono y la selectividad del etileno.\n",
    "\n",
    "$$F3_E = (1-X_E)∙F1_E $$\n",
    "$$F3_A = F3∙(0.0018/100) $$\n",
    "$$F3_{DEE} = F3∙(2.5274/100) $$\n",
    "$$F3_{CO} = F3∙(0.0005/100) $$\n",
    "$$F3_B = F3∙(0.0019/100) $$\n",
    "$$F3_M = F3∙(0.0006/100) $$\n",
    "$$F3_{Et} = 0.68∙(F1_E-F3_E)$$\n",
    "\n",
    "Modificar el valor de la conversión del etanol para ver cómo cambian el resto de parámetros."
   ]
  },
  {
   "cell_type": "code",
   "execution_count": 6,
   "id": "74ba2c40",
   "metadata": {},
   "outputs": [
    {
     "data": {
      "application/vnd.jupyter.widget-view+json": {
       "model_id": "afad2a5187684984bdc46487eb1bf435",
       "version_major": 2,
       "version_minor": 0
      },
      "text/plain": [
       "interactive(children=(FloatSlider(value=0.72, description='Conversión', max=1.0, min=0.72, step=0.01), Dropdow…"
      ]
     },
     "metadata": {},
     "output_type": "display_data"
    }
   ],
   "source": [
    "display(pfr1)"
   ]
  },
  {
   "cell_type": "markdown",
   "id": "3d046877",
   "metadata": {},
   "source": [
    "## PFR 2 y PFR 3\n",
    "\n",
    "Tal y como ha hecho para el primer reactor, por favor, ejecute la siguiente celda y calcule el número de grados de libertad para el segundo y tercer reactor. Los grados de libertad son los mismos en ambos casos ya que se parte de los mismos datos conocidos de partida.\n",
    "\n",
    "Se debe tener en cuenta que la corriente de entrada a cada reactor es conocida, así como su composición. En el caso del reactor PFR 2 la corriente de entrada es la 4, la cual es la suma de las corrientes 3 y 15, tal y como se puede observar en la imagen del proceso completo del enunciado. Asimiso, para el reactor PFR 3 la entrada es la corriente 7, que es la salida del segundo reactor. \n",
    "\n"
   ]
  },
  {
   "cell_type": "code",
   "execution_count": 7,
   "id": "ec1102f0",
   "metadata": {},
   "outputs": [
    {
     "data": {
      "application/vnd.jupyter.widget-view+json": {
       "model_id": "7d60747977c94fc8a5d672933be75ea3",
       "version_major": 2,
       "version_minor": 0
      },
      "text/plain": [
       "interactive(children=(IntText(value=0, description='Var. flujo'), IntText(value=0, description='Var. reac.'), …"
      ]
     },
     "metadata": {},
     "output_type": "display_data"
    }
   ],
   "source": [
    "display(TgL2)"
   ]
  },
  {
   "cell_type": "markdown",
   "id": "e11559f1",
   "metadata": {},
   "source": [
    "En la siguiente celda se proporciona la solución para quien lo desee comprobar."
   ]
  },
  {
   "cell_type": "code",
   "execution_count": 7,
   "id": "9746ec76",
   "metadata": {},
   "outputs": [
    {
     "data": {
      "application/vnd.jupyter.widget-view+json": {
       "model_id": "08a14561b0444aeeb1f3a45f90a6ef98",
       "version_major": 2,
       "version_minor": 0
      },
      "text/plain": [
       "Button(description='Mostrar', style=ButtonStyle())"
      ]
     },
     "metadata": {},
     "output_type": "display_data"
    }
   ],
   "source": [
    "RindoTabla2 ('')"
   ]
  },
  {
   "cell_type": "markdown",
   "id": "59451bde",
   "metadata": {},
   "source": [
    "Para el caso concreto del reactor PFR 2 se han considerado las siguientes especificaciones; la conversión del etanol y las composiciones de salida del: dietiléter, acetaldehído, buteno, metano, monóxido de carbono y etileno.\n",
    "\n",
    "$$F7_E = (1-X_E)∙F4_E $$\n",
    "$$F7_A = F7∙(0.0061/100) $$\n",
    "$$F7_{DEE} = F7∙(0.5688/100) $$\n",
    "$$F7_{CO} = F7∙(0.0009/100) $$\n",
    "$$F7_B = F7∙(0.0108/100) $$\n",
    "$$F7_M = F7∙(0.0011/100) $$\n",
    "$$F7_{Et} = F7*(16.4157/100)$$\n",
    "\n",
    "Para el PFR 3 se han considerado las mismas especificaciones; la conversión del etanol y las composiciones de salida del: dietiléter, acetaldehído, buteno, metano, monóxido de carbono y etileno.\n",
    "\n",
    "$$F10_E = (1-X_E)∙F7_E $$\n",
    "$$F10_A = F10∙(0.00679/100) $$\n",
    "$$F10_{DEE} = F10∙(0.0395/100) $$\n",
    "$$F10_{CO} = F10∙(0.00249/100) $$\n",
    "$$F10_B = F10∙(0.05658/100) $$\n",
    "$$F10_M = F10∙(0.0034/100) $$\n",
    "$$F10_{Et} = F10*(18.45599/100)$$\n",
    "\n",
    "Tal y como se ha hecho en el primer reactor modifique el valor de la conversión del etanol para ver cómo cambian el resto de parámetros."
   ]
  },
  {
   "cell_type": "code",
   "execution_count": 8,
   "id": "84d21116",
   "metadata": {},
   "outputs": [
    {
     "data": {
      "application/vnd.jupyter.widget-view+json": {
       "model_id": "27289dce6f43488c8441064fa5c2a1c4",
       "version_major": 2,
       "version_minor": 0
      },
      "text/plain": [
       "interactive(children=(FloatSlider(value=0.5802, description='Conversión', max=1.0, min=0.58, step=0.01), Dropd…"
      ]
     },
     "metadata": {},
     "output_type": "display_data"
    }
   ],
   "source": [
    "display(pfr2)"
   ]
  },
  {
   "cell_type": "code",
   "execution_count": 9,
   "id": "dc8e6ebd",
   "metadata": {},
   "outputs": [
    {
     "data": {
      "application/vnd.jupyter.widget-view+json": {
       "model_id": "1eaab9824a584707917ef8bf4dbf799b",
       "version_major": 2,
       "version_minor": 0
      },
      "text/plain": [
       "interactive(children=(FloatSlider(value=0.55, description='Conversión', max=1.0, min=0.55, step=0.01), Dropdow…"
      ]
     },
     "metadata": {},
     "output_type": "display_data"
    }
   ],
   "source": [
    "display(pfr3)"
   ]
  },
  {
   "cell_type": "markdown",
   "id": "1dc850a4",
   "metadata": {},
   "source": [
    "## PROCESO COMPLETO \n",
    "\n",
    "En este apartado se va a considerar la situación en el que se resuelve el balance completo de forma simultánea.\n",
    "\n",
    "<img src=\"./imagenes/ProcesoGlobal.png\">\n",
    "\n"
   ]
  },
  {
   "cell_type": "markdown",
   "id": "f269b996",
   "metadata": {},
   "source": [
    "Se plantea la tabla de grados de libertad para conocer el número de restricciones necesarias para resolver el balance. Ejecute el siguiente código para ver la tabla."
   ]
  },
  {
   "cell_type": "code",
   "execution_count": 9,
   "id": "512dbde8",
   "metadata": {},
   "outputs": [
    {
     "name": "stdout",
     "output_type": "stream",
     "text": [
      "La tabla de grados de libertad para el proceso completo es la siguiente:\n",
      "╒═════════════════════════════╤═══════════╕\n",
      "│           Títulos           │   Proceso │\n",
      "╞═════════════════════════════╪═══════════╡\n",
      "│     Variables de flujo      │        74 │\n",
      "├─────────────────────────────┼───────────┤\n",
      "│    Variables de reacción    │        21 │\n",
      "├─────────────────────────────┼───────────┤\n",
      "│    Ecuaciones de balance    │        60 │\n",
      "├─────────────────────────────┼───────────┤\n",
      "│   Caudales especificados    │         1 │\n",
      "├─────────────────────────────┼───────────┤\n",
      "│ Composiciones especificadas │         1 │\n",
      "├─────────────────────────────┼───────────┤\n",
      "│  Relación entre variables   │         0 │\n",
      "├─────────────────────────────┼───────────┤\n",
      "│             GdL             │        33 │\n",
      "╘═════════════════════════════╧═══════════╛\n"
     ]
    }
   ],
   "source": [
    "TgLCompleto('')"
   ]
  },
  {
   "cell_type": "markdown",
   "id": "88ce0825",
   "metadata": {},
   "source": [
    "Tal y como se ha podido comprobar son necesarias treinta y tres especificaciones para poder resolver el balance. Si desea conocer cuáles son las restricciones empleadas ejecute el siguiente código."
   ]
  },
  {
   "cell_type": "code",
   "execution_count": 10,
   "id": "97fc5524",
   "metadata": {},
   "outputs": [
    {
     "data": {
      "text/latex": [
       "$\\displaystyle F_{3 E} = 476.85$"
      ],
      "text/plain": [
       "Eq(F3_E, 476.85)"
      ]
     },
     "metadata": {},
     "output_type": "display_data"
    },
    {
     "data": {
      "text/latex": [
       "$\\displaystyle F_{3 A} = 0.13318300945366$"
      ],
      "text/plain": [
       "Eq(F3_A, 0.13318300945366)"
      ]
     },
     "metadata": {},
     "output_type": "display_data"
    },
    {
     "data": {
      "text/latex": [
       "$\\displaystyle F_{3 DEE} = 187.003743385105$"
      ],
      "text/plain": [
       "Eq(F3_DEE, 187.003743385105)"
      ]
     },
     "metadata": {},
     "output_type": "display_data"
    },
    {
     "data": {
      "text/latex": [
       "$\\displaystyle F_{3 CO} = 0.0369952804038$"
      ],
      "text/plain": [
       "Eq(F3_CO, 0.0369952804038)"
      ]
     },
     "metadata": {},
     "output_type": "display_data"
    },
    {
     "data": {
      "text/latex": [
       "$\\displaystyle F_{3 B} = 0.14058206553442$"
      ],
      "text/plain": [
       "Eq(F3_B, 0.14058206553442)"
      ]
     },
     "metadata": {},
     "output_type": "display_data"
    },
    {
     "data": {
      "text/latex": [
       "$\\displaystyle F_{3 M} = 0.04439433648455$"
      ],
      "text/plain": [
       "Eq(F3_M, 0.04439433648455)"
      ]
     },
     "metadata": {},
     "output_type": "display_data"
    },
    {
     "data": {
      "text/latex": [
       "$\\displaystyle F_{3 Et} = 798.68052$"
      ],
      "text/plain": [
       "Eq(F3_Et, 798.68052)"
      ]
     },
     "metadata": {},
     "output_type": "display_data"
    },
    {
     "data": {
      "text/latex": [
       "$\\displaystyle F_{15 E} = 109$"
      ],
      "text/plain": [
       "Eq(F15_E, 109)"
      ]
     },
     "metadata": {},
     "output_type": "display_data"
    },
    {
     "data": {
      "text/latex": [
       "$\\displaystyle F_{15 DEE} = 0.31$"
      ],
      "text/plain": [
       "Eq(F15_DEE, 0.31)"
      ]
     },
     "metadata": {},
     "output_type": "display_data"
    },
    {
     "data": {
      "text/latex": [
       "$\\displaystyle F_{15 A} = 0.3$"
      ],
      "text/plain": [
       "Eq(F15_A, 0.3)"
      ]
     },
     "metadata": {},
     "output_type": "display_data"
    },
    {
     "data": {
      "text/latex": [
       "$\\displaystyle F_{15 B} = 0.005$"
      ],
      "text/plain": [
       "Eq(F15_B, 0.005)"
      ]
     },
     "metadata": {},
     "output_type": "display_data"
    },
    {
     "data": {
      "text/latex": [
       "$\\displaystyle F_{15 H2O} = 490$"
      ],
      "text/plain": [
       "Eq(F15_H2O, 490)"
      ]
     },
     "metadata": {},
     "output_type": "display_data"
    },
    {
     "data": {
      "text/latex": [
       "$\\displaystyle F_{15 CO} = 0$"
      ],
      "text/plain": [
       "Eq(F15_CO, 0)"
      ]
     },
     "metadata": {},
     "output_type": "display_data"
    },
    {
     "data": {
      "text/latex": [
       "$\\displaystyle F_{15 CO2} = 0.005$"
      ],
      "text/plain": [
       "Eq(F15_CO2, 0.005)"
      ]
     },
     "metadata": {},
     "output_type": "display_data"
    },
    {
     "data": {
      "text/latex": [
       "$\\displaystyle F_{15 M} = 0$"
      ],
      "text/plain": [
       "Eq(F15_M, 0)"
      ]
     },
     "metadata": {},
     "output_type": "display_data"
    },
    {
     "data": {
      "text/latex": [
       "$\\displaystyle F_{15 H} = 0$"
      ],
      "text/plain": [
       "Eq(F15_H, 0)"
      ]
     },
     "metadata": {},
     "output_type": "display_data"
    },
    {
     "data": {
      "text/latex": [
       "$\\displaystyle F_{15 Et} = 0.8$"
      ],
      "text/plain": [
       "Eq(F15_Et, 0.8)"
      ]
     },
     "metadata": {},
     "output_type": "display_data"
    },
    {
     "data": {
      "text/latex": [
       "$\\displaystyle F_{7 E} = 0.028547 F_{7}$"
      ],
      "text/plain": [
       "Eq(F7_E, 0.028547*F7)"
      ]
     },
     "metadata": {},
     "output_type": "display_data"
    },
    {
     "data": {
      "text/latex": [
       "$\\displaystyle F_{7 A} = 6.1 \\cdot 10^{-5} F_{7}$"
      ],
      "text/plain": [
       "Eq(F7_A, 6.1e-5*F7)"
      ]
     },
     "metadata": {},
     "output_type": "display_data"
    },
    {
     "data": {
      "text/latex": [
       "$\\displaystyle F_{7 DEE} = 0.005688 F_{7}$"
      ],
      "text/plain": [
       "Eq(F7_DEE, 0.005688*F7)"
      ]
     },
     "metadata": {},
     "output_type": "display_data"
    },
    {
     "data": {
      "text/latex": [
       "$\\displaystyle F_{7 CO} = 9.0 \\cdot 10^{-6} F_{7}$"
      ],
      "text/plain": [
       "Eq(F7_CO, 9.0e-6*F7)"
      ]
     },
     "metadata": {},
     "output_type": "display_data"
    },
    {
     "data": {
      "text/latex": [
       "$\\displaystyle F_{7 B} = 0.000108 F_{7}$"
      ],
      "text/plain": [
       "Eq(F7_B, 0.000108*F7)"
      ]
     },
     "metadata": {},
     "output_type": "display_data"
    },
    {
     "data": {
      "text/latex": [
       "$\\displaystyle F_{7 M} = 1.1 \\cdot 10^{-5} F_{7}$"
      ],
      "text/plain": [
       "Eq(F7_M, 1.1e-5*F7)"
      ]
     },
     "metadata": {},
     "output_type": "display_data"
    },
    {
     "data": {
      "text/latex": [
       "$\\displaystyle F_{7 Et} = 0.164157 F_{7}$"
      ],
      "text/plain": [
       "Eq(F7_Et, 0.164157*F7)"
      ]
     },
     "metadata": {},
     "output_type": "display_data"
    },
    {
     "data": {
      "text/latex": [
       "$\\displaystyle F_{10 E} = 0.012669 F_{10}$"
      ],
      "text/plain": [
       "Eq(F10_E, 0.012669*F10)"
      ]
     },
     "metadata": {},
     "output_type": "display_data"
    },
    {
     "data": {
      "text/latex": [
       "$\\displaystyle F_{10 A} = 6.8 \\cdot 10^{-5} F_{10}$"
      ],
      "text/plain": [
       "Eq(F10_A, 6.8e-5*F10)"
      ]
     },
     "metadata": {},
     "output_type": "display_data"
    },
    {
     "data": {
      "text/latex": [
       "$\\displaystyle F_{10 DEE} = 0.000395 F_{10}$"
      ],
      "text/plain": [
       "Eq(F10_DEE, 0.000395*F10)"
      ]
     },
     "metadata": {},
     "output_type": "display_data"
    },
    {
     "data": {
      "text/latex": [
       "$\\displaystyle F_{10 CO} = 2.5 \\cdot 10^{-5} F_{10}$"
      ],
      "text/plain": [
       "Eq(F10_CO, 2.5e-5*F10)"
      ]
     },
     "metadata": {},
     "output_type": "display_data"
    },
    {
     "data": {
      "text/latex": [
       "$\\displaystyle F_{10 B} = 0.000566 F_{10}$"
      ],
      "text/plain": [
       "Eq(F10_B, 0.000566*F10)"
      ]
     },
     "metadata": {},
     "output_type": "display_data"
    },
    {
     "data": {
      "text/latex": [
       "$\\displaystyle F_{10 M} = 3.4 \\cdot 10^{-5} F_{10}$"
      ],
      "text/plain": [
       "Eq(F10_M, 3.4e-5*F10)"
      ]
     },
     "metadata": {},
     "output_type": "display_data"
    },
    {
     "data": {
      "text/latex": [
       "$\\displaystyle F_{10 Et} = 0.18456 F_{10}$"
      ],
      "text/plain": [
       "Eq(F10_Et, 0.18456*F10)"
      ]
     },
     "metadata": {},
     "output_type": "display_data"
    },
    {
     "data": {
      "text/latex": [
       "$\\displaystyle F_{16 E} = 0.026$"
      ],
      "text/plain": [
       "Eq(F16_E, 0.026)"
      ]
     },
     "metadata": {},
     "output_type": "display_data"
    },
    {
     "data": {
      "text/latex": [
       "$\\displaystyle F_{16 H2O} = 6591$"
      ],
      "text/plain": [
       "Eq(F16_H2O, 6591)"
      ]
     },
     "metadata": {},
     "output_type": "display_data"
    }
   ],
   "source": [
    "MostrarEspecificaciones('')"
   ]
  },
  {
   "cell_type": "code",
   "execution_count": 11,
   "id": "2d3b0e1b",
   "metadata": {},
   "outputs": [
    {
     "data": {
      "application/vnd.jupyter.widget-view+json": {
       "model_id": "c4ad3046ec3947048ec75559093a6cf2",
       "version_major": 2,
       "version_minor": 0
      },
      "text/plain": [
       "interactive(children=(FloatSlider(value=0.711, description='X PFR 1', max=1.0, step=0.01), FloatSlider(value=0…"
      ]
     },
     "metadata": {},
     "output_type": "display_data"
    }
   ],
   "source": [
    "display(ProcesoCompleto)"
   ]
  },
  {
   "cell_type": "markdown",
   "id": "0fa3a1fb",
   "metadata": {},
   "source": [
    "### Si el importado no funciona, ejecute el siguiente código"
   ]
  },
  {
   "cell_type": "code",
   "execution_count": 12,
   "id": "f8ab32a1",
   "metadata": {},
   "outputs": [],
   "source": [
    "# -*- coding: utf-8 -*-\n",
    "\"\"\"\n",
    "Created on Saturday Dic 03 09:30:30 2022\n",
    "\n",
    "@author: Sofia Canal\n",
    "\"\"\"\n",
    "\n",
    "import sympy as sym\n",
    "from ipywidgets import interactive, fixed, FloatSlider, interactive, Dropdown, IntText\n",
    "from sympy import solve\n",
    "import matplotlib.pyplot as plt\n",
    "import ipywidgets as widgets\n",
    "from IPython.display import display\n",
    "from tabulate import tabulate\n",
    "import matplotlib.pyplot as plt\n",
    "import matplotlib.image as mpimg\n",
    "\n",
    "#DEFICIÓN DE BOTONES\n",
    "run_button = widgets.Button(description = 'Mostrar')\n",
    "run_button2 = widgets.Button(description = 'Mostrar')\n",
    "#CÓDIGO PARA EL PFR 1\n",
    "def PFR1(XE = 0.7109, caso = 'Caudal'):\n",
    "    \n",
    "    #Datos\n",
    "    F1 = 6600            #Caudal de alimentación fresca\n",
    "    S_Et = 0.68          #Selectividad del etileno\n",
    "    #Variables\n",
    "    variables = sym.var('F1_E F1_H2O F3 F3_E F3_DEE F3_A F3_B F3_H2O F3_CO F3_CO2 F3_M F3_H F3_Et xi_2 xi_3 xi_4 xi_5 xi_6 xi_7 xi_8')\n",
    "    global F3\n",
    "    \n",
    "    #Ecuaciones de balance\n",
    "    balances = [\n",
    "    sym.Eq(0, F1_E - 2*xi_2 - xi_4 - xi_6 - xi_7 - F3_E),\n",
    "    sym.Eq(0, xi_2 - xi_3 - F3_DEE),\n",
    "    sym.Eq(0, xi_4 - F3_A),\n",
    "    sym.Eq(0, 0.5*xi_5 - F3_B),\n",
    "    sym.Eq(0, F1_H2O + xi_2 + xi_3 - xi_7 - xi_8 - F3_H2O),\n",
    "    sym.Eq(0, xi_6 + 2*xi_7 - xi_8 - F3_CO),\n",
    "    sym.Eq(0, xi_8 - F3_CO2),\n",
    "    sym.Eq(0, xi_6 - F3_M),\n",
    "    sym.Eq(0, xi_4 + xi_6 + 4*xi_7 + xi_8 - F3_H),\n",
    "    sym.Eq(0, 2*xi_3 - xi_5 - F3_Et)\n",
    "    ]\n",
    "    \n",
    "    #Especificaciones\n",
    "    especificaciones = [\n",
    "        \n",
    "    sym.Eq(F3, F3_E + F3_H2O + F3_DEE + F3_A + F3_B + F3_CO + F3_CO2 + F3_M + F3_H + F3_Et),\n",
    "        \n",
    "    sym.Eq(F1_E, 0.25*F1),             #Alimentación con un 25% de etanol\n",
    "    sym.Eq(F1_H2O, 0.75*F1),           #Alimentación con un 75% de agua\n",
    "    \n",
    "    sym.Eq(F3_E, (1-XE)*F1_E),         #Composición etanol utilizando la conversión\n",
    "    sym.Eq(F3_A, F3*(0.0018/100)),     #Composición acetaldehído\n",
    "    sym.Eq(F3_DEE, F3*(2.5274/100)),   #Composición dietiléter\n",
    "    sym.Eq(F3_CO, F3*(0.0005/100)),    #Composición monóxido de carbono\n",
    "    sym.Eq(F3_B, F3*(0.0019/100)),     #Composición buteno\n",
    "    sym.Eq(F3_M, F3*(0.0006/100)),     #Composición metano\n",
    "        \n",
    "    sym.Eq(F3_Et, S_Et*(F1_E-F3_E))   #Selectividad del etileno\n",
    "    \n",
    "    ]\n",
    "    \n",
    "    ecuaciones = balances + especificaciones\n",
    "    \n",
    "    #Resolución\n",
    "    soln = solve(ecuaciones)\n",
    "    \n",
    "    #Output\n",
    "    fig, ax1 = plt.subplots(figsize=(7,7))\n",
    "    img = mpimg.imread('./imagenes/PFR_1.png')\n",
    "    imgplot = plt.imshow(img)\n",
    "    plt.axis('off')\n",
    "    \n",
    "    if caso == 'Caudal':\n",
    "        txt1 = \"Etanol: \"+str(round(soln[F3_E],4))+\" kmol/h\\n\"\n",
    "        txt2 = \"Dietiléter: \"+str(round(soln[F3_DEE],4))+ \" kmol/h\\n\"\n",
    "        txt3 = \"Acetaldehído: \"+str(round(soln[F3_A],4))+ \" kmol/h\\n\"\n",
    "        txt4 = \"Buteno: \"+str(round(soln[F3_B],4))+ \" kmol/h\\n\"\n",
    "        txt5 = \"Agua: \"+str(round(soln[F3_H2O],4))+ \" kmol/h\\n\"\n",
    "        txt6 = \"Monóxido de carbono: \"+str(round(soln[F3_CO],4))+ \" kmol/h\\n\"\n",
    "        txt7 = \"Dióxido de carbono: \"+str(round(soln[F3_CO2],4))+ \" kmol/h\\n\"\n",
    "        txt8 = \"Metano: \"+str(round(soln[F3_M],4))+ \" kmol/h\\n\"\n",
    "        txt9 = \"Hidrógeno: \"+str(round(soln[F3_H],4))+ \" kmol/h\\n\"\n",
    "        txt10 = \"Etileno: \"+str(round(soln[F3_Et],4))+ \" kmol/h\\n\"\n",
    "        txt = txt1 + txt2 + txt3 + txt4 + txt5 + txt6 + txt7 + txt8 + txt9 + txt10\n",
    "        plt.text(320,105,txt, size=14)\n",
    "        \n",
    "        \n",
    "    elif caso == 'Porcentaje':\n",
    "        txt1 = \"Etanol: \"+str(round(100*(soln[F3_E]/soln[F3]),4))+\" %\\n\"\n",
    "        txt2 = \"Dietiléter: \"+str(round(100*(soln[F3_DEE]/soln[F3]),4))+ \" %\\n\"\n",
    "        txt3 = \"Acetaldehído: \"+str(round(100*(soln[F3_A]/soln[F3]),4))+ \" %\\n\"\n",
    "        txt4 = \"Buteno: \"+str(round(100*(soln[F3_B]/soln[F3]),4))+ \" %\\n\"\n",
    "        txt5 = \"Agua: \"+str(round(100*(soln[F3_H2O]/soln[F3]),4))+ \" %\\n\"\n",
    "        txt6 = \"Monóxido de carbono: \"+str(round(100*(soln[F3_CO]/soln[F3]),4))+ \" %\\n\"\n",
    "        txt7 = \"Dióxido de carbono: \"+str(round(100*(soln[F3_CO2]/soln[F3]),4))+ \" %\\n\"\n",
    "        txt8 = \"Metano: \"+str(round(100*(soln[F3_M]/soln[F3]),4))+ \" %\\n\"\n",
    "        txt9 = \"Hidrógeno: \"+str(round(100*(soln[F3_H]/soln[F3]),4))+ \" %\\n\"\n",
    "        txt10 = \"Etileno: \"+str(round(100*(soln[F3_Et]/soln[F3]),4))+ \" %\\n\"\n",
    "        txt = txt1 + txt2 + txt3 + txt4 + txt5 + txt6 + txt7 + txt8 + txt9 + txt10\n",
    "        plt.text(320,105,txt, size=14)        \n",
    "\n",
    "#CÓDIGO PARA EL PFR 2\n",
    "def PFR2(XE = 0.5801, caso = 'Caudal'):\n",
    "    \n",
    "    #Variables\n",
    "    variables = sym.var('F3 F3_E F3_DEE F3_A F3_B F3_H2O F3_CO F3_CO2 F3_M F3_H F3_Et F15 F15_E F15_DEE F15_A F15_B F15_H2O F15_CO F15_CO2 F15_M F15_H F15_Et F4 F4_E F4_DEE F4_A F4_B F4_H2O F4_CO F4_CO2 F4_M F4_H F4_Et F7 F7_E F7_DEE F7_A F7_B F7_H2O F7_CO F7_CO2 F7_M F7_H F7_Et xi_2 xi_3 xi_4 xi_5 xi_6 xi_7 xi_8')\n",
    "    \n",
    "    #Ecuaciones de balance\n",
    "    balances = [\n",
    "        sym.Eq(0, F4_E - 2*xi_2 - xi_4 - xi_6 - xi_7 - F7_E),\n",
    "        sym.Eq(0, F4_DEE + xi_2 - xi_3 - F7_DEE),\n",
    "        sym.Eq(0, F4_A + xi_4 - F7_A),\n",
    "        sym.Eq(0, F4_B + 0.5*xi_5 - F7_B),\n",
    "        sym.Eq(0, F4_H2O + xi_2 + xi_3 - xi_7 - xi_8 - F7_H2O),\n",
    "        sym.Eq(0, F4_CO + xi_6 + 2*xi_7 - xi_8 - F7_CO),\n",
    "        sym.Eq(0, F4_CO2 + xi_8 - F7_CO2),\n",
    "        sym.Eq(0, F4_M + xi_6 - F7_M),\n",
    "        sym.Eq(0, F4_H + xi_4 + xi_6 + 4*xi_7 + xi_8 - F7_H),\n",
    "        sym.Eq(0, F4_Et + 2*xi_3 - xi_5 - F7_Et)\n",
    "    ]\n",
    "    \n",
    "    #Especificaciones\n",
    "    especificaciones = [\n",
    "        \n",
    "        sym.Eq(F3_E, 476.850000000000),   \n",
    "        sym.Eq(F3_DEE, 187.003743385105),\n",
    "        sym.Eq(F3_A, 0.13318300945366),\n",
    "        sym.Eq(F3_B, 0.14058206553442),\n",
    "        sym.Eq(F3_H2O, 5935.94827320175),\n",
    "        sym.Eq(F3_CO, 0.03699528040380),\n",
    "        sym.Eq(F3_CO2, 0.01390256164592),\n",
    "        sym.Eq(F3_M, 0.04439433648455),\n",
    "        sym.Eq(F3_H, 0.20448691871446),\n",
    "        sym.Eq(F3_Et, 798.680520000000),\n",
    "\n",
    "        sym.Eq(F15_E, 109),   \n",
    "        sym.Eq(F15_DEE, 0.31),\n",
    "        sym.Eq(F15_A, 0.3),\n",
    "        sym.Eq(F15_B, 0.005),\n",
    "        sym.Eq(F15_H2O, 490),\n",
    "        sym.Eq(F15_CO, 0),\n",
    "        sym.Eq(F15_CO2, 0.005),\n",
    "        sym.Eq(F15_M, 0),\n",
    "        sym.Eq(F15_H, 0),\n",
    "        sym.Eq(F15_Et, 0.8),\n",
    "\n",
    "        sym.Eq(F4_E, F3_E + F15_E),   \n",
    "        sym.Eq(F4_DEE, F3_DEE + F15_DEE ),\n",
    "        sym.Eq(F4_A, F3_A + F15_A),\n",
    "        sym.Eq(F4_B, F3_B + F15_B),\n",
    "        sym.Eq(F4_H2O, F3_H2O + F15_H2O),\n",
    "        sym.Eq(F4_CO, F3_CO + F15_CO),\n",
    "        sym.Eq(F4_CO2, F3_CO2 + F15_CO2),\n",
    "        sym.Eq(F4_M, F3_M + F15_M),\n",
    "        sym.Eq(F4_H, F3_H + F15_H),\n",
    "        sym.Eq(F4_Et, F3_Et + F15_Et),\n",
    "\n",
    "        sym.Eq(F3, F3_E + F3_H2O + F3_DEE + F3_A + F3_B + F3_CO + F3_CO2 + F3_M + F3_H + F3_Et),\n",
    "        sym.Eq(F15, F15_E + F15_H2O + F15_DEE + F15_A + F15_B + F15_CO + F15_CO2 + F15_M + F15_H + F15_Et),\n",
    "        sym.Eq(F4, F4_E + F4_H2O + F4_DEE + F4_A + F4_B + F4_CO + F4_CO2 + F4_M + F4_H + F4_Et),\n",
    "        sym.Eq(F7, F7_E + F7_H2O + F7_DEE + F7_A + F7_B + F7_CO + F7_CO2 + F7_M + F7_H + F7_Et),\n",
    "        \n",
    "        #Especificaciones PFR 2\n",
    "        sym.Eq(F7_E, (1-XE)*F4_E),             #Conversión del etanol\n",
    "        sym.Eq(F7_A, F7*(0.0061/100)),         #Composición del acetaldehído\n",
    "        sym.Eq(F7_DEE, F7*(0.5688/100)),       #Composición del dietiléter\n",
    "        sym.Eq(F7_CO, F7*(0.0009/100)),        #Composición del monóxido de carbono\n",
    "        sym.Eq(F7_B, F7*(0.0108/100)),         #Composición del buteno\n",
    "        sym.Eq(F7_M, F7*(0.0011/100)),         #Composición del metano\n",
    "        sym.Eq(F7_Et, F7*(16.4157/100))        #Composición del etileno\n",
    "        \n",
    "    ]\n",
    "    \n",
    "    ecuaciones = balances + especificaciones\n",
    "    \n",
    "    #Resolucion\n",
    "    soln = solve(ecuaciones)\n",
    "    \n",
    "    #Output\n",
    "    fig, ax1 = plt.subplots(figsize=(10,10))\n",
    "    img = mpimg.imread('./imagenes/PFR_2.png')\n",
    "    imgplot = plt.imshow(img)\n",
    "    plt.axis('off')\n",
    "    \n",
    "    txt4_1 = \"Etanol: \"+str(round(soln[F4_E],4))+\" kmol/h\\n\"\n",
    "    txt4_2 = \"Dietiléter: \"+str(round(soln[F4_DEE],4))+ \" kmol/h\\n\"\n",
    "    txt4_3 = \"Acetaldehído: \"+str(round(soln[F4_A],4))+ \" kmol/h\\n\"\n",
    "    txt4_4 = \"Buteno: \"+str(round(soln[F4_B],4))+ \" kmol/h\\n\"\n",
    "    txt4_5 = \"Agua: \"+str(round(soln[F4_H2O],4))+ \" kmol/h\\n\"\n",
    "    txt4_6 = \"Monóxido de carbono: \"+str(round(soln[F4_CO],4))+ \" kmol/h\\n\"\n",
    "    txt4_7 = \"Dióxido de carbono: \"+str(round(soln[F4_CO2],4))+ \" kmol/h\\n\"\n",
    "    txt4_8 = \"Metano: \"+str(round(soln[F4_M],4))+ \" kmol/h\\n\"\n",
    "    txt4_9 = \"Hidrógeno: \"+str(round(soln[F4_H],4))+ \" kmol/h\\n\"\n",
    "    txt4_10 = \"Etileno: \"+str(round(soln[F4_Et],4))+ \" kmol/h\\n\"\n",
    "    txt4_tot = txt4_1 + txt4_2 + txt4_3 + txt4_4 + txt4_5 + txt4_6 + txt4_7 + txt4_8 + txt4_9 + txt4_10\n",
    "    plt.text(0, 100, txt4_tot, size=14)\n",
    "\n",
    "                              \n",
    "    if caso == 'Caudal': \n",
    "        txt1 = \"Etanol: \"+str(round(soln[F7_E],4))+\" kmol/h\\n\"\n",
    "        txt2 = \"Dietiléter: \"+str(round(soln[F7_DEE],4))+ \" kmol/h\\n\"\n",
    "        txt3 = \"Acetaldehído: \"+str(round(soln[F7_A],4))+ \" kmol/h\\n\"\n",
    "        txt4 = \"Buteno: \"+str(round(soln[F7_B],4))+ \" kmol/h\\n\"\n",
    "        txt5 = \"Agua: \"+str(round(soln[F7_H2O],4))+ \" kmol/h\\n\"\n",
    "        txt6 = \"Monóxido de carbono: \"+str(round(soln[F7_CO],4))+ \" kmol/h\\n\"\n",
    "        txt7 = \"Dióxido de carbono: \"+str(round(soln[F7_CO2],4))+ \" kmol/h\\n\"\n",
    "        txt8 = \"Metano: \"+str(round(soln[F7_M],4))+ \" kmol/h\\n\"\n",
    "        txt9 = \"Hidrógeno: \"+str(round(soln[F7_H],4))+ \" kmol/h\\n\"\n",
    "        txt10 = \"Etileno: \"+str(round(soln[F7_Et],4))+ \" kmol/h\\n\"\n",
    "        txt = txt1 + txt2 + txt3 + txt4 + txt5 + txt6 + txt7 + txt8 + txt9 + txt10\n",
    "        plt.text(380,100,txt, size=14)\n",
    "        \n",
    "        \n",
    "    elif caso == 'Porcentaje':\n",
    "        txt1 = \"Etanol: \"+str(round(100*(soln[F7_E]/soln[F7]),4))+\" %\\n\"\n",
    "        txt2 = \"Dietiléter: \"+str(round(100*(soln[F7_DEE]/soln[F7]),4))+ \" %\\n\"\n",
    "        txt3 = \"Acetaldehído: \"+str(round(100*(soln[F7_A]/soln[F7]),4))+ \" %\\n\"\n",
    "        txt4 = \"Buteno: \"+str(round(100*(soln[F7_B]/soln[F7]),4))+ \" %\\n\"\n",
    "        txt5 = \"Agua: \" +str(round(100*(soln[F7_H2O]/soln[F7]),4))+ \" %\\n\"\n",
    "        txt6 = \"Monóxido de carbono: \"+str(round(100*(soln[F7_CO]/soln[F7]),4))+ \" %\\n\"\n",
    "        txt7 = \"Dióxido de carbono: \" +str(round(100*(soln[F7_CO2]/soln[F7]),4))+ \" %\\n\"\n",
    "        txt8 = \"Metano: \"+str(round(100*(soln[F7_M]/soln[F7]),4))+ \" %\\n\"\n",
    "        txt9 = \"Hidrógeno: \" +str(round(100*(soln[F7_H]/soln[F7]),4))+ \" %\\n\"\n",
    "        txt10 = \"Etileno: \"+str(round(100*(soln[F7_Et]/soln[F7]),4))+ \" %\\n\"\n",
    "        txt = txt1 + txt2 + txt3 + txt4 + txt5 + txt6 + txt7 + txt8 + txt9 + txt10\n",
    "        plt.text(380,100,txt, size=14)        \n",
    "    \n",
    "#CÓDIGO PARA EL PFR 3 \n",
    "def PFR3(XE = 0.5448, caso = 'Caudal'):\n",
    "     \n",
    "    #Variables\n",
    "    variables = sym.var('F7_E F7_DEE F7_A F7_B F7_H2O F7_CO F7_CO2 F7_M F7_H F7_Et F10 F10_E F10_DEE F10_A F10_B F10_H2O F10_CO F10_CO2 F10_M F10_H F10_Et xi_2 xi_3 xi_4 xi_5 xi_6 xi_7 xi_8')\n",
    "    \n",
    "    #Ecuaciones de balance\n",
    "    balances = [\n",
    "        sym.Eq(0, F7_E - 2*xi_2 - xi_4 - xi_6 - xi_7 - F10_E),\n",
    "        sym.Eq(0, F7_DEE + xi_2 - xi_3 - F10_DEE),\n",
    "        sym.Eq(0, F7_A + xi_4 - F10_A),\n",
    "        sym.Eq(0, F7_B + 0.5*xi_5 - F10_B),\n",
    "        sym.Eq(0, F7_H2O + xi_2 + xi_3 - xi_7 - xi_8 - F10_H2O),\n",
    "        sym.Eq(0, F7_CO + xi_6 + 2*xi_7 - xi_8 - F10_CO),\n",
    "        sym.Eq(0, F7_CO2 + xi_8 - F10_CO2),\n",
    "        sym.Eq(0, F7_M + xi_6 - F10_M),\n",
    "        sym.Eq(0, F7_H + xi_4 + xi_6 + 4*xi_7 + xi_8 - F10_H),\n",
    "        sym.Eq(0, F7_Et + 2*xi_3 - xi_5 - F10_Et)\n",
    "    ]\n",
    "    \n",
    "    #Especificaciones\n",
    "    especificaciones = [\n",
    "        sym.Eq(F7_E, 245.939830000000),          #Composición etanol\n",
    "        sym.Eq(F7_A, 0.52553648525995),         #Composición acetaldehído\n",
    "        sym.Eq(F7_DEE, 49.0041234124356),       #Composición dietiléter\n",
    "        sym.Eq(F7_H2O, 6903.90719936866),     #Composición de agua\n",
    "        sym.Eq(F7_CO, 0.07753816995639),       #Composición monóxido de carbono\n",
    "        sym.Eq(F7_CO2, 0.08288628184530),       #Composición del dióxido de carbono\n",
    "        sym.Eq(F7_B, 0.93045803947663),         #Composición del buteno\n",
    "        sym.Eq(F7_M, 0.09476887439114),         #Composición del metano\n",
    "        sym.Eq(F7_H, 0.51950279631748),        #Composición de hidrógeno\n",
    "        sym.Eq(F7_Et, 1414.27037394782),        #Composición  etileno\n",
    "\n",
    "        sym.Eq(F10, F10_E + F10_H2O + F10_DEE + F10_A + F10_B + F10_CO + F10_CO2 + F10_M + F10_H + F10_Et),\n",
    "        \n",
    "        sym.Eq(F10_E, (1-XE)*F7_E),             #Conversión etanol \n",
    "    \n",
    "        sym.Eq(F10_A, F10*(0.00679/100)),         #Composición acetaldehído\n",
    "        sym.Eq(F10_DEE, F10*(0.0395/100)),       #Composición dietiléter\n",
    "        sym.Eq(F10_CO, F10*(0.00249/100)),       #Composición monóxido de carbono\n",
    "        sym.Eq(F10_B, F10*(0.05658/100)),         #Composición del buteno\n",
    "        sym.Eq(F10_M, F10*(0.0034/100)),         #Composición del metano\n",
    "        sym.Eq(F10_Et, F10*(18.45599/100))        #Composición  etileno\n",
    "    ]\n",
    "    \n",
    "    ecuaciones = balances + especificaciones\n",
    "    \n",
    "    #Resolución\n",
    "    soln = solve(ecuaciones)\n",
    "    \n",
    "    #Output\n",
    "    fig, ax1 = plt.subplots(figsize=(10,10))\n",
    "    img = mpimg.imread('./imagenes/PFR_3.png')\n",
    "    imgplot = plt.imshow(img)\n",
    "    plt.axis('off')\n",
    "    \n",
    "    txt7_1 = \"Etanol: \"+str(round(soln[F7_E],4))+\" kmol/h\\n\"\n",
    "    txt7_2 = \"Dietiléter: \"+str(round(soln[F7_DEE],4))+ \" kmol/h\\n\"\n",
    "    txt7_3 = \"Acetaldehído: \"+str(round(soln[F7_A],4))+ \" kmol/h\\n\"\n",
    "    txt7_4 = \"Buteno: \"+str(round(soln[F7_B],4))+ \" kmol/h\\n\"\n",
    "    txt7_5 = \"Agua: \"+str(round(soln[F7_H2O],4))+ \" kmol/h\\n\"\n",
    "    txt7_6 = \"Monóxido de carbono: \"+str(round(soln[F7_CO],4))+ \" kmol/h\\n\"\n",
    "    txt7_7 = \"Dióxido de carbono: \"+str(round(soln[F7_CO2],4))+ \" kmol/h\\n\"\n",
    "    txt7_8 = \"Metano: \"+str(round(soln[F7_M],4))+ \" kmol/h\\n\"\n",
    "    txt7_9 = \"Hidrógeno: \"+str(round(soln[F7_H],4))+ \" kmol/h\\n\"\n",
    "    txt7_10 = \"Etileno: \"+str(round(soln[F7_Et],4))+ \" kmol/h\\n\"\n",
    "    txt7_tot = txt7_1 + txt7_2 + txt7_3 + txt7_4 + txt7_5 + txt7_6 + txt7_7 + txt7_8 + txt7_9 + txt7_10\n",
    "    plt.text(0, 100, txt7_tot, size=14)\n",
    "\n",
    "    \n",
    "    if caso == 'Caudal': \n",
    "        txt1 = \"Etanol: \"+str(round(soln[F10_E],4))+\" kmol/h\\n\"\n",
    "        txt2 = \"Dietiléter: \"+str(round(soln[F10_DEE],4))+ \" kmol/h\\n\"\n",
    "        txt3 = \"Acetaldehído: \"+str(round(soln[F10_A],4))+ \" kmol/h\\n\"\n",
    "        txt4 = \"Buteno: \"+str(round(soln[F10_B],4))+ \" kmol/h\\n\"\n",
    "        txt5 = \"Agua: \"+str(round(soln[F10_H2O],4))+ \" kmol/h\\n\"\n",
    "        txt6 = \"Monóxido de carbono: \"+str(round(soln[F10_CO],4))+ \" kmol/h\\n\"\n",
    "        txt7 = \"Dióxido de carbono: \"+str(round(soln[F10_CO2],4))+ \" kmol/h\\n\"\n",
    "        txt8 = \"Metano: \"+str(round(soln[F10_M],4))+ \" kmol/h\\n\"\n",
    "        txt9 = \"Hidrógeno: \"+str(round(soln[F10_H],4))+ \" kmol/h\\n\"\n",
    "        txt10 = \"Etileno: \"+str(round(soln[F10_Et],4))+ \" kmol/h\\n\"\n",
    "        txt = txt1 + txt2 + txt3 + txt4 + txt5 + txt6 + txt7 + txt8 + txt9 + txt10\n",
    "        plt.text(380,100,txt, size=14)\n",
    "        \n",
    "        \n",
    "    elif caso == 'Porcentaje':\n",
    "        txt1 = \"Etanol: \"+str(round(100*(soln[F10_E]/soln[F10]),4))+\" %\\n\"\n",
    "        txt2 = \"Dietiléter: \"+str(round(100*(soln[F10_DEE]/soln[F10]),4))+ \" %\\n\"\n",
    "        txt3 = \"Acetaldehído: \"+str(round(100*(soln[F10_A]/soln[F10]),4))+ \" %\\n\"\n",
    "        txt4 = \"Buteno: \"+str(round(100*(soln[F10_B]/soln[F10]),4))+ \" %\\n\"\n",
    "        txt5 = \"Agua: \" +str(round(100*(soln[F10_H2O]/soln[F10]),4))+ \" %\\n\"\n",
    "        txt6 = \"Monóxido de carbono: \"+str(round(100*(soln[F10_CO]/soln[F10]),4))+ \" %\\n\"\n",
    "        txt7 = \"Dióxido de carbono: \" +str(round(100*(soln[F10_CO2]/soln[F10]),4))+ \" %\\n\"\n",
    "        txt8 = \"Metano: \"+str(round(100*(soln[F10_M]/soln[F10]),4))+ \" %\\n\"\n",
    "        txt9 = \"Hidrógeno: \" +str(round(100*(soln[F10_H]/soln[F10]),4))+ \" %\\n\"\n",
    "        txt10 = \"Etileno: \"+str(round(100*(soln[F10_Et]/soln[F10]),4))+ \" %\\n\"\n",
    "        txt = txt1 + txt2 + txt3 + txt4 + txt5 + txt6 + txt7 + txt8 + txt9 + txt10\n",
    "        plt.text(380,100,txt, size=14)        \n",
    "\n",
    "def ProcesoC(XE1 = 0.711, XE2 = 0.5802, XE3 = 0.5448, caso = 'C3'):\n",
    "    \n",
    "    #Variables\n",
    "    variables = [\n",
    "    sym.var('F1_E F1_H2O'),\n",
    "    sym.var('F3_E F3_DEE F3_A F3_B F3_H2O F3_CO F3_CO2 F3_M F3_H F3_Et'),\n",
    "    sym.var('F4 F4_E F4_DEE F4_A F4_B F4_H2O F4_CO F4_CO2 F4_M F4_H F4_Et'),\n",
    "    sym.var('F15_E F15_DEE F15_A F15_B F15_H2O F15_CO F15_CO2 F15_M F15_H F15_Et'),\n",
    "    sym.var('F7 F7_E F7_DEE F7_A F7_B F7_H2O F7_CO F7_CO2 F7_M F7_H F7_Et'),\n",
    "    sym.var('F10 F10_E F10_DEE F10_A F10_B F10_H2O F10_CO F10_CO2 F10_M F10_H F10_Et'),\n",
    "    sym.var('F12_E F12_DEE F12_A F12_B F12_H2O F12_CO F12_CO2 F12_M F12_H F12_Et'),\n",
    "    sym.var('F13_E F13_DEE F13_A F13_B F13_H2O F13_CO F13_CO2 F13_M F13_H F13_Et'),\n",
    "    sym.var('F16_E F16_DEE F16_A F16_B F16_H2O F16_CO F16_CO2 F16_M F16_H F16_Et'),\n",
    "    sym.var('xi_21 xi_31 xi_41 xi_51 xi_61 xi_71 xi_81'),\n",
    "    sym.var('xi_22 xi_32 xi_42 xi_52 xi_62 xi_72 xi_82'),\n",
    "    sym.var('xi_23 xi_33 xi_43 xi_53 xi_63 xi_73 xi_83')\n",
    "    ]\n",
    "    \n",
    "    #Ecuaciones de balance\n",
    "    PFR1 = [\n",
    "        sym.Eq(0, F1_E - 2*xi_21 - xi_41 - xi_61 - xi_71 - F3_E),\n",
    "        sym.Eq(0, xi_21 - xi_31 - F3_DEE),\n",
    "        sym.Eq(0, xi_41 - F3_A),\n",
    "        sym.Eq(0, 0.5*xi_51 - F3_B),\n",
    "        sym.Eq(0, F1_H2O + xi_21 + xi_31 - xi_71 - xi_81 - F3_H2O),\n",
    "        sym.Eq(0, xi_61 + 2*xi_71 - xi_81 - F3_CO),\n",
    "        sym.Eq(0, xi_81 - F3_CO2),\n",
    "        sym.Eq(0, xi_61 - F3_M),\n",
    "        sym.Eq(0, xi_41 + xi_61 + 4*xi_71 + xi_81 - F3_H),\n",
    "        sym.Eq(0, 2*xi_31 - xi_51 - F3_Et)\n",
    "    ]\n",
    "\n",
    "    mezclador = [\n",
    "        sym.Eq(F4_E, F15_E + F3_E),\n",
    "        sym.Eq(F4_DEE, F15_DEE + F3_DEE),\n",
    "        sym.Eq(F4_A, F15_A + F3_A),\n",
    "        sym.Eq(F4_B, F15_B + F3_B),\n",
    "        sym.Eq(F4_H2O, F15_H2O + F3_H2O),\n",
    "        sym.Eq(F4_CO, F15_CO + F3_CO),\n",
    "        sym.Eq(F4_CO2, F15_CO2 + F3_CO2),\n",
    "        sym.Eq(F4_M, F15_M + F3_M),\n",
    "        sym.Eq(F4_H, F15_H + F3_H),\n",
    "        sym.Eq(F4_Et, F15_Et + F3_Et)\n",
    "    ]\n",
    "\n",
    "    PFR2 = [\n",
    "        sym.Eq(0, F4_E - 2*xi_22 - xi_42 - xi_62 - xi_72 - F7_E),\n",
    "        sym.Eq(0, F4_DEE + xi_22 - xi_32 - F7_DEE),\n",
    "        sym.Eq(0, F4_A + xi_42 - F7_A),\n",
    "        sym.Eq(0, F4_B + 0.5*xi_52 - F7_B),\n",
    "        sym.Eq(0, F4_H2O + xi_22 + xi_32 - xi_72 - xi_82 - F7_H2O),\n",
    "        sym.Eq(0, F4_CO + xi_62 + 2*xi_72 - xi_82 - F7_CO),\n",
    "        sym.Eq(0, F4_CO2 + xi_82 - F7_CO2),\n",
    "        sym.Eq(0, F4_M + xi_62 - F7_M),\n",
    "        sym.Eq(0, F4_H + xi_42 + xi_62 + 4*xi_72 + xi_82 - F7_H),\n",
    "        sym.Eq(0, F4_Et + 2*xi_32 - xi_52 - F7_Et)\n",
    "    ]\n",
    "\n",
    "    PFR3 = [\n",
    "        sym.Eq(0, F7_E - 2*xi_23 - xi_43 - xi_63 - xi_73 - F10_E),\n",
    "        sym.Eq(0, F7_DEE + xi_23 - xi_33 - F10_DEE),\n",
    "        sym.Eq(0, F7_A + xi_43 - F10_A),\n",
    "        sym.Eq(0, F7_B + 0.5*xi_53 - F10_B),\n",
    "        sym.Eq(0, F7_H2O + xi_23 + xi_33 - xi_73 - xi_83 - F10_H2O),\n",
    "        sym.Eq(0, F7_CO + xi_63 + 2*xi_73 - xi_83 - F10_CO),\n",
    "        sym.Eq(0, F7_CO2 + xi_83 - F10_CO2),\n",
    "        sym.Eq(0, F7_M + xi_63 - F10_M),\n",
    "        sym.Eq(0, F7_H + xi_43 + xi_63 + 4*xi_73 + xi_83 - F10_H),\n",
    "        sym.Eq(0, F7_Et + 2*xi_33 - xi_53 - F10_Et)\n",
    "    ]\n",
    "\n",
    "    S1 = [\n",
    "        sym.Eq(F10_E, F12_E + F13_E),\n",
    "        sym.Eq(F10_DEE, F12_DEE + F13_DEE),\n",
    "        sym.Eq(F10_A, F12_A + F13_A),\n",
    "        sym.Eq(F10_B, F12_B + F13_B),\n",
    "        sym.Eq(F10_H2O, F12_H2O + F13_H2O),\n",
    "        sym.Eq(F10_CO, F12_CO + F13_CO),\n",
    "        sym.Eq(F10_CO2, F12_CO2 + F13_CO2),\n",
    "        sym.Eq(F10_M, F12_M + F13_M),\n",
    "        sym.Eq(F10_H, F12_H + F13_H),\n",
    "        sym.Eq(F10_Et, F12_Et + F13_Et)\n",
    "    ]\n",
    "\n",
    "    S2 = [\n",
    "        sym.Eq(F13_E, F15_E + F16_E),\n",
    "        sym.Eq(F13_DEE, F15_DEE + F16_DEE),\n",
    "        sym.Eq(F13_A, F15_A + F16_A),\n",
    "        sym.Eq(F13_B, F15_B + F16_B),\n",
    "        sym.Eq(F13_H2O, F15_H2O + F16_H2O),\n",
    "        sym.Eq(F13_CO, F15_CO + F16_CO),\n",
    "        sym.Eq(F13_CO2, F15_CO2 + F16_CO2),\n",
    "        sym.Eq(F13_M, F15_M + F16_M),\n",
    "        sym.Eq(F13_H, F15_H + F16_H),\n",
    "        sym.Eq(F13_Et, F15_Et + F16_Et)\n",
    "    ]\n",
    "\n",
    "    balances = PFR1 + mezclador + PFR2 + PFR3 + S1 + S2\n",
    "    \n",
    "    #Especificaciones\n",
    "    F1 = 6600\n",
    "    especificaciones = [\n",
    "    \n",
    "    #Corriente 1\n",
    "    sym.Eq(F1_E, 0.25*F1),   #Alimentación con un 25% de etanol\n",
    "    sym.Eq(F1_H2O, 0.75*F1),  #Alimentación con un 75% de agua\n",
    "    \n",
    "    #Corriente 3\n",
    "    sym.Eq(F3_E, (1-XE1)*F1_E),         #CONVERSIÓN ETANOL\n",
    "    sym.Eq(F3_A, 0.13318300945366),     #Composición acetaldehído\n",
    "    sym.Eq(F3_DEE, 187.003743385105),   #Composición dietiléter\n",
    "    sym.Eq(F3_CO, 0.03699528040380),    #Composición monóxido de carbono\n",
    "    sym.Eq(F3_B, 0.14058206553442),     #Composición buteno\n",
    "    sym.Eq(F3_M, 0.04439433648455),     #Composición metano\n",
    "    sym.Eq(F3_Et, 798.680520000000),    #Composición etileno\n",
    "\n",
    "    #Corriente 15\n",
    "    sym.Eq(F15_E, 109),   \n",
    "    sym.Eq(F15_DEE, 0.31),\n",
    "    sym.Eq(F15_A, 0.3),\n",
    "    sym.Eq(F15_B, 0.005),\n",
    "    sym.Eq(F15_H2O, 490),\n",
    "    sym.Eq(F15_CO, 0),\n",
    "    sym.Eq(F15_CO2, 0.005),\n",
    "    sym.Eq(F15_M, 0),\n",
    "    sym.Eq(F15_H, 0),\n",
    "    sym.Eq(F15_Et, 0.8),\n",
    "    \n",
    "    #Corriente 7\n",
    "    #sym.Eq(F7_E, F7*(2.8547/100)),         #Composición etanol\n",
    "    sym.Eq(F7_E, (1-XE2)*F4_E),    #CONVERSIÓN ETANOL\n",
    "    sym.Eq(F7_A, F7*(0.0061/100)),         #Composición acetaldehído\n",
    "    sym.Eq(F7_DEE, F7*(0.5688/100)),       #Composición dietiléter\n",
    "    sym.Eq(F7_CO, F7*(0.0009/100)),        #Composición monóxido de carbono\n",
    "    sym.Eq(F7_B, F7*(0.0108/100)),         #Composición del buteno\n",
    "    sym.Eq(F7_M, F7*(0.0011/100)),         #Composición del metano\n",
    "    sym.Eq(F7_Et, F7*(16.4157/100)),       #Composición  etileno\n",
    "    sym.Eq(F7, F7_E + F7_H2O + F7_DEE + F7_A + F7_B + F7_CO + F7_CO2 + F7_M + F7_H + F7_Et),\n",
    "    \n",
    "    #Corriente 10 \n",
    "    #sym.Eq(F10_E, F10*(1.2669/100)),        #Composición etanol \n",
    "    sym.Eq(F10_E, (1-XE3)*F7_E),             #CONVERSIÓN ETANOL\n",
    "    sym.Eq(F10_A, F10*(0.0068/100)),        #Composición acetaldehído\n",
    "    sym.Eq(F10_DEE, F10*(0.0395/100)),      #Composición dietiléter\n",
    "    sym.Eq(F10_CO, F10*(0.0025/100)),       #Composición monóxido de carbono\n",
    "    sym.Eq(F10_B, F10*(0.0566/100)),        #Composición del buteno\n",
    "    sym.Eq(F10_M, F10*(0.0034/100)),        #Composición del metano\n",
    "    sym.Eq(F10_Et, F10*(18.4560/100)),      #Composición  etileno\n",
    "    sym.Eq(F10, F10_E + F10_H2O + F10_DEE + F10_A + F10_B + F10_CO + F10_CO2 + F10_M + F10_H + F10_Et),\n",
    "    \n",
    "    #Corriente 16\n",
    "    sym.Eq(F16_E, 0.026),   #Caudal de etanol\n",
    "    sym.Eq(F16_DEE, 0),\n",
    "    sym.Eq(F16_A, 0),\n",
    "    sym.Eq(F16_B, 0),\n",
    "    sym.Eq(F16_H2O, 6591),  #Caudal de agua\n",
    "    sym.Eq(F16_CO, 0),\n",
    "    sym.Eq(F16_CO2, 0),\n",
    "    sym.Eq(F16_M, 0),\n",
    "    sym.Eq(F16_H, 0),\n",
    "    sym.Eq(F16_Et, 0),\n",
    "    \n",
    "    #Corriente 12\n",
    "    #sym.Eq(F12_Et, 1630.06),\n",
    "    #sym.Eq(F12_CO, 0.022)\n",
    "    \n",
    "    ]\n",
    "    \n",
    "    ecuaciones = balances + especificaciones\n",
    "    \n",
    "    #Resolución\n",
    "    soln = solve(ecuaciones)\n",
    "\n",
    "    #Outputs\n",
    "    #fig, ax1 = plt.subplots(figsize=(12,12))\n",
    "    #img = mpimg.imread('./imagenes/ProcesoGlobal2.png')\n",
    "    #imgplot = plt.imshow(img)\n",
    "    #plt.axis('off')\n",
    "    \n",
    "    if caso == 'C3':\n",
    "        fig, ax1 = plt.subplots(figsize=(12,12))\n",
    "        img = mpimg.imread('./imagenes/Corriente3.png')\n",
    "        imgplot = plt.imshow(img)\n",
    "        plt.axis('off')\n",
    "        txt0 = \"La corriente 3\\n\"\n",
    "        txt1 = \"Etanol: \"+str(round(soln[F3_E],4))+\" kmol/h\\n\"\n",
    "        txt2 = \"Dietiléter: \"+str(round(soln[F3_DEE],4))+ \" kmol/h\\n\"\n",
    "        txt3 = \"Acetaldehído: \"+str(round(soln[F3_A],4))+ \" kmol/h\\n\"\n",
    "        txt4 = \"Buteno: \"+str(round(soln[F3_B],4))+ \" kmol/h\\n\"\n",
    "        txt5 = \"Agua: \"+str(round(soln[F3_H2O],4))+ \" kmol/h\\n\"\n",
    "        txt6 = \"Monóxido de carbono: \"+str(round(soln[F3_CO],4))+ \" kmol/h\\n\"\n",
    "        txt7 = \"Dióxido de carbono: \"+str(round(soln[F3_CO2],4))+ \" kmol/h\\n\"\n",
    "        txt8 = \"Metano: \"+str(round(soln[F3_M],4))+ \" kmol/h\\n\"\n",
    "        txt9 = \"Hidrógeno: \"+str(round(soln[F3_H],4))+ \" kmol/h\\n\"\n",
    "        txt10 = \"Etileno: \"+str(round(soln[F3_Et],4))+ \" kmol/h\\n\"\n",
    "        txt = txt0 + txt1 + txt2 + txt3 + txt4 + txt5 + txt6 + txt7 + txt8 + txt9 + txt10\n",
    "        plt.text(1000,200,txt, size=14)\n",
    "        \n",
    "        \n",
    "    if caso == 'C4':\n",
    "        fig, ax1 = plt.subplots(figsize=(12,12))\n",
    "        img = mpimg.imread('./imagenes/Corriente4.png')\n",
    "        imgplot = plt.imshow(img)\n",
    "        plt.axis('off')\n",
    "        txt0 = \"La corriente 4\\n\"\n",
    "        txt1 = \"Etanol: \"+str(round(soln[F4_E],4))+\" kmol/h\\n\"\n",
    "        txt2 = \"Dietiléter: \"+str(round(soln[F4_DEE],4))+ \" kmol/h\\n\"\n",
    "        txt3 = \"Acetaldehído: \"+str(round(soln[F4_A],4))+ \" kmol/h\\n\"\n",
    "        txt4 = \"Buteno: \"+str(round(soln[F4_B],4))+ \" kmol/h\\n\"\n",
    "        txt5 = \"Agua: \"+str(round(soln[F4_H2O],4))+ \" kmol/h\\n\"\n",
    "        txt6 = \"Monóxido de carbono: \"+str(round(soln[F4_CO],4))+ \" kmol/h\\n\"\n",
    "        txt7 = \"Dióxido de carbono: \"+str(round(soln[F4_CO2],4))+ \" kmol/h\\n\"\n",
    "        txt8 = \"Metano: \"+str(round(soln[F4_M],4))+ \" kmol/h\\n\"\n",
    "        txt9 = \"Hidrógeno: \"+str(round(soln[F4_H],4))+ \" kmol/h\\n\"\n",
    "        txt10 = \"Etileno: \"+str(round(soln[F4_Et],4))+ \" kmol/h\\n\"\n",
    "        txt = txt0 + txt1 + txt2 + txt3 + txt4 + txt5 + txt6 + txt7 + txt8 + txt9 + txt10\n",
    "        plt.text(1000, 200, txt, size=14)\n",
    "        \n",
    "    if  caso == 'C7':\n",
    "        fig, ax1 = plt.subplots(figsize=(12,12))\n",
    "        img = mpimg.imread('./imagenes/Corriente7.png')\n",
    "        imgplot = plt.imshow(img)\n",
    "        plt.axis('off')\n",
    "        txt0 = \"La corriente 7\\n\"\n",
    "        txt1 = \"Etanol: \"+str(round(soln[F7_E],4))+\" kmol/h\\n\"\n",
    "        txt2 = \"Dietiléter: \"+str(round(soln[F7_DEE],4))+ \" kmol/h\\n\"\n",
    "        txt3 = \"Acetaldehído: \"+str(round(soln[F7_A],4))+ \" kmol/h\\n\"\n",
    "        txt4 = \"Buteno: \"+str(round(soln[F7_B],4))+ \" kmol/h\\n\"\n",
    "        txt5 = \"Agua: \"+str(round(soln[F7_H2O],4))+ \" kmol/h\\n\"\n",
    "        txt6 = \"Monóxido de carbono: \"+str(round(soln[F7_CO],4))+ \" kmol/h\\n\"\n",
    "        txt7 = \"Dióxido de carbono: \"+str(round(soln[F7_CO2],4))+ \" kmol/h\\n\"\n",
    "        txt8 = \"Metano: \"+str(round(soln[F7_M],4))+ \" kmol/h\\n\"\n",
    "        txt9 = \"Hidrógeno: \"+str(round(soln[F7_H],4))+ \" kmol/h\\n\"\n",
    "        txt10 = \"Etileno: \"+str(round(soln[F7_Et],4))+ \" kmol/h\\n\"\n",
    "        txt = txt0 + txt1 + txt2 + txt3 + txt4 + txt5 + txt6 + txt7 + txt8 + txt9 + txt10\n",
    "        plt.text(1000,200,txt, size=14)\n",
    "        \n",
    "    if caso == 'C10':\n",
    "        fig, ax1 = plt.subplots(figsize=(12,12))\n",
    "        img = mpimg.imread('./imagenes/Corriente10.png')\n",
    "        imgplot = plt.imshow(img)\n",
    "        plt.axis('off')\n",
    "        txt0 = \"La corriente 10\\n\"\n",
    "        txt1 = \"Etanol: \"+str(round(soln[F10_E],4))+\" kmol/h\\n\"\n",
    "        txt2 = \"Dietiléter: \"+str(round(soln[F10_DEE],4))+ \" kmol/h\\n\"\n",
    "        txt3 = \"Acetaldehído: \"+str(round(soln[F10_A],4))+ \" kmol/h\\n\"\n",
    "        txt4 = \"Buteno: \"+str(round(soln[F10_B],4))+ \" kmol/h\\n\"\n",
    "        txt5 = \"Agua: \"+str(round(soln[F10_H2O],4))+ \" kmol/h\\n\"\n",
    "        txt6 = \"Monóxido de carbono: \"+str(round(soln[F10_CO],4))+ \" kmol/h\\n\"\n",
    "        txt7 = \"Dióxido de carbono: \"+str(round(soln[F10_CO2],4))+ \" kmol/h\\n\"\n",
    "        txt8 = \"Metano: \"+str(round(soln[F10_M],4))+ \" kmol/h\\n\"\n",
    "        txt9 = \"Hidrógeno: \"+str(round(soln[F10_H],4))+ \" kmol/h\\n\"\n",
    "        txt10 = \"Etileno: \"+str(round(soln[F10_Et],4))+ \" kmol/h\\n\"\n",
    "        txt = txt0 + txt1 + txt2 + txt3 + txt4 + txt5 + txt6 + txt7 + txt8 + txt9 + txt10\n",
    "        plt.text(1000,200,txt, size=14)\n",
    "    \n",
    "    if caso == 'C12':\n",
    "        fig, ax1 = plt.subplots(figsize=(12,12))\n",
    "        img = mpimg.imread('./imagenes/Corriente12.png')\n",
    "        imgplot = plt.imshow(img)\n",
    "        plt.axis('off')\n",
    "        txt0 = \"La corriente 12\\n\"\n",
    "        txt1 = \"Etanol: \"+str(round(soln[F12_E],4))+\" kmol/h\\n\"\n",
    "        txt2 = \"Dietiléter: \"+str(round(soln[F12_DEE],4))+ \" kmol/h\\n\"\n",
    "        txt3 = \"Acetaldehído: \"+str(round(soln[F12_A],4))+ \" kmol/h\\n\"\n",
    "        txt4 = \"Buteno: \"+str(round(soln[F12_B],4))+ \" kmol/h\\n\"\n",
    "        txt5 = \"Agua: \"+str(round(soln[F12_H2O],4))+ \" kmol/h\\n\"\n",
    "        txt6 = \"Monóxido de carbono: \"+str(round(soln[F12_CO],4))+ \" kmol/h\\n\"\n",
    "        txt7 = \"Dióxido de carbono: \"+str(round(soln[F12_CO2],4))+ \" kmol/h\\n\"\n",
    "        txt8 = \"Metano: \"+str(round(soln[F12_M],4))+ \" kmol/h\\n\"\n",
    "        txt9 = \"Hidrógeno: \"+str(round(soln[F12_H],4))+ \" kmol/h\\n\"\n",
    "        txt10 = \"Etileno: \"+str(round(soln[F12_Et],4))+ \" kmol/h\\n\"\n",
    "        txt = txt0 + txt1 + txt2 + txt3 + txt4 + txt5 + txt6 + txt7 + txt8 + txt9 + txt10\n",
    "        plt.text(1000,200,txt, size=14)\n",
    "     \n",
    "    if caso == 'C13':\n",
    "        fig, ax1 = plt.subplots(figsize=(12,12))\n",
    "        img = mpimg.imread('./imagenes/Corriente13.png')\n",
    "        imgplot = plt.imshow(img)\n",
    "        plt.axis('off')\n",
    "        txt0 = \"La corriente 13\\n\"\n",
    "        txt1 = \"Etanol: \"+str(round(soln[F13_E],4))+\" kmol/h\\n\"\n",
    "        txt2 = \"Dietiléter: \"+str(round(soln[F13_DEE],4))+ \" kmol/h\\n\"\n",
    "        txt3 = \"Acetaldehído: \"+str(round(soln[F13_A],4))+ \" kmol/h\\n\"\n",
    "        txt4 = \"Buteno: \"+str(round(soln[F13_B],4))+ \" kmol/h\\n\"\n",
    "        txt5 = \"Agua: \"+str(round(soln[F13_H2O],4))+ \" kmol/h\\n\"\n",
    "        txt6 = \"Monóxido de carbono: \"+str(round(soln[F13_CO],4))+ \" kmol/h\\n\"\n",
    "        txt7 = \"Dióxido de carbono: \"+str(round(soln[F13_CO2],4))+ \" kmol/h\\n\"\n",
    "        txt8 = \"Metano: \"+str(round(soln[F13_M],4))+ \" kmol/h\\n\"\n",
    "        txt9 = \"Hidrógeno: \"+str(round(soln[F13_H],4))+ \" kmol/h\\n\"\n",
    "        txt10 = \"Etileno: \"+str(round(soln[F13_Et],4))+ \" kmol/h\\n\"\n",
    "        txt = txt0 + txt1 + txt2 + txt3 + txt4 + txt5 + txt6 + txt7 + txt8 + txt9 + txt10\n",
    "        plt.text(1000,200,txt, size=14)\n",
    "        \n",
    "    if caso == 'C15':\n",
    "        fig, ax1 = plt.subplots(figsize=(12,12))\n",
    "        img = mpimg.imread('./imagenes/Corriente15.png')\n",
    "        imgplot = plt.imshow(img)\n",
    "        plt.axis('off')\n",
    "        txt0 = \"La corriente 15\\n\"\n",
    "        txt1 = \"Etanol: \"+str(round(soln[F15_E],4))+\" kmol/h\\n\"\n",
    "        txt2 = \"Dietiléter: \"+str(round(soln[F15_DEE],4))+ \" kmol/h\\n\"\n",
    "        txt3 = \"Acetaldehído: \"+str(round(soln[F15_A],4))+ \" kmol/h\\n\"\n",
    "        txt4 = \"Buteno: \"+str(round(soln[F15_B],4))+ \" kmol/h\\n\"\n",
    "        txt5 = \"Agua: \"+str(round(soln[F15_H2O],4))+ \" kmol/h\\n\"\n",
    "        txt6 = \"Monóxido de carbono: \"+str(round(soln[F15_CO],4))+ \" kmol/h\\n\"\n",
    "        txt7 = \"Dióxido de carbono: \"+str(round(soln[F15_CO2],4))+ \" kmol/h\\n\"\n",
    "        txt8 = \"Metano: \"+str(round(soln[F15_M],4))+ \" kmol/h\\n\"\n",
    "        txt9 = \"Hidrógeno: \"+str(round(soln[F15_H],4))+ \" kmol/h\\n\"\n",
    "        txt10 = \"Etileno: \"+str(round(soln[F15_Et],4))+ \" kmol/h\\n\"\n",
    "        txt = txt0 + txt1 + txt2 + txt3 + txt4 + txt5 + txt6 + txt7 + txt8 + txt9 + txt10\n",
    "        plt.text(1000,200,txt, size=14)\n",
    "     \n",
    "    if caso == 'C16':\n",
    "        fig, ax1 = plt.subplots(figsize=(12,12))\n",
    "        img = mpimg.imread('./imagenes/Corriente16.png')\n",
    "        imgplot = plt.imshow(img)\n",
    "        plt.axis('off')\n",
    "        txt0 = \"La corriente 16\\n\"\n",
    "        txt1 = \"Etanol: \"+str(round(soln[F16_E],4))+\" kmol/h\\n\"\n",
    "        txt2 = \"Dietiléter: \"+str(round(soln[F16_DEE],4))+ \" kmol/h\\n\"\n",
    "        txt3 = \"Acetaldehído: \"+str(round(soln[F16_A],4))+ \" kmol/h\\n\"\n",
    "        txt4 = \"Buteno: \"+str(round(soln[F16_B],4))+ \" kmol/h\\n\"\n",
    "        txt5 = \"Agua: \"+str(round(soln[F16_H2O],4))+ \" kmol/h\\n\"\n",
    "        txt6 = \"Monóxido de carbono: \"+str(round(soln[F16_CO],4))+ \" kmol/h\\n\"\n",
    "        txt7 = \"Dióxido de carbono: \"+str(round(soln[F16_CO2],4))+ \" kmol/h\\n\"\n",
    "        txt8 = \"Metano: \"+str(round(soln[F16_M],4))+ \" kmol/h\\n\"\n",
    "        txt9 = \"Hidrógeno: \"+str(round(soln[F16_H],4))+ \" kmol/h\\n\"\n",
    "        txt10 = \"Etileno: \"+str(round(soln[F16_Et],4))+ \" kmol/h\\n\"\n",
    "        txt = txt0 + txt1 + txt2 + txt3 + txt4 + txt5 + txt6 + txt7 + txt8 + txt9 + txt10\n",
    "        plt.text(1000,200,txt, size=14)\n",
    "        \n",
    "    if caso == 'grad1':\n",
    "        fig, ax1 = plt.subplots(figsize=(12,12))\n",
    "        img = mpimg.imread('./imagenes/Grad1.png')\n",
    "        imgplot = plt.imshow(img)\n",
    "        plt.axis('off')\n",
    "        txt0 = \"Los grados de avance del PFR 1 son:\\n\"\n",
    "        txt1 = \"Reacción 2: \"+str(round(soln[xi_21],4))+\"\\n\"\n",
    "        txt2 = \"Reacción 3: \"+str(round(soln[xi_31],4))+\"\\n\"\n",
    "        txt3 = \"Reacción 4: \"+str(round(soln[xi_41],4))+\"\\n\"\n",
    "        txt4 = \"Reacción 5: \"+str(round(soln[xi_51],4))+\"\\n\"\n",
    "        txt5 = \"Reacción 6: \"+str(round(soln[xi_61],4))+\"\\n\"\n",
    "        txt6 = \"Reacción 7: \"+str(round(soln[xi_71],4))+\"\\n\"\n",
    "        txt7 = \"Reacción 8: \"+str(round(soln[xi_81],4))+\"\\n\"\n",
    "        txt = txt0 + txt1 + txt2 + txt3 + txt4 + txt5 + txt6 + txt7\n",
    "        plt.text(1000,200,txt, size=14)\n",
    "        \n",
    "    if caso == 'grad2':\n",
    "        fig, ax1 = plt.subplots(figsize=(12,12))\n",
    "        img = mpimg.imread('./imagenes/Grad2.png')\n",
    "        imgplot = plt.imshow(img)\n",
    "        plt.axis('off')\n",
    "        txt0 = \"Los grados de avance del PFR 2 son:\\n\"\n",
    "        txt1 = \"Reacción 2: \"+str(round(soln[xi_22],4))+\"\\n\"\n",
    "        txt2 = \"Reacción 3: \"+str(round(soln[xi_32],4))+\"\\n\"\n",
    "        txt3 = \"Reacción 4: \"+str(round(soln[xi_42],4))+\"\\n\"\n",
    "        txt4 = \"Reacción 5: \"+str(round(soln[xi_52],4))+\"\\n\"\n",
    "        txt5 = \"Reacción 6: \"+str(round(soln[xi_62],4))+\"\\n\"\n",
    "        txt6 = \"Reacción 7: \"+str(round(soln[xi_72],4))+\"\\n\"\n",
    "        txt7 = \"Reacción 8: \"+str(round(soln[xi_82],4))+\"\\n\"\n",
    "        txt = txt0 + txt1 + txt2 + txt3 + txt4 + txt5 + txt6 + txt7\n",
    "        plt.text(1000,200,txt, size=14)\n",
    "        \n",
    "    if caso == 'grad3':\n",
    "        fig, ax1 = plt.subplots(figsize=(12,12))\n",
    "        img = mpimg.imread('./imagenes/Grad3.png')\n",
    "        imgplot = plt.imshow(img)\n",
    "        plt.axis('off')\n",
    "        txt0 = \"Los grados de avance del PFR 3 son:\\n\"\n",
    "        txt1 = \"Reacción 2: \"+str(round(soln[xi_23],4))+\"\\n\"\n",
    "        txt2 = \"Reacción 3: \"+str(round(soln[xi_33],4))+\"\\n\"\n",
    "        txt3 = \"Reacción 4: \"+str(round(soln[xi_43],4))+\"\\n\"\n",
    "        txt4 = \"Reacción 5: \"+str(round(soln[xi_53],4))+\"\\n\"\n",
    "        txt5 = \"Reacción 6: \"+str(round(soln[xi_63],4))+\"\\n\"\n",
    "        txt6 = \"Reacción 7: \"+str(round(soln[xi_73],4))+\"\\n\"\n",
    "        txt7 = \"Reacción 8: \"+str(round(soln[xi_83],4))+\"\\n\"\n",
    "        txt = txt0 + txt1 + txt2 + txt3 + txt4 + txt5 + txt6 + txt7\n",
    "        plt.text(1000,200,txt, size=14)     \n",
    "    \n",
    "    control = 0\n",
    "    for i in soln:\n",
    "        if soln[i]<0:\n",
    "            control = control + 1\n",
    "    if control > 0:\n",
    "        txtControl = \"De entre todos los valores de todas las corrientes hay \" +str(control)+ \" valores negativos\"\n",
    "        plt.text(0,280, txtControl, size = 14)\n",
    "        \n",
    "def MostrarTabla (b):\n",
    "    print(\"La tabla de grados de libertad para el reactor PFR 1 es la siguiente:\")\n",
    "    d = [[\"Variables de flujo\", 12], [\"Variables de reacción\", 7], [\"Ecuaciones de balance\", 10],\n",
    "                  [\"Caudales especificados\", 1 ], [\"Composiciones especificadas\", 1 ], [\"Relación entre variables\", 0 ], [\"GdL\", 7 ]]\n",
    "    print(tabulate(d, headers =['Títulos', 'PFR 1'], tablefmt='fancy_grid', stralign='center'))\n",
    "    \n",
    "def MostrarTabla2 (b):\n",
    "    print(\"La tabla de grados de libertad para los reactores PFR 2 y PFR 3 es la siguiente:\")\n",
    "    d = [[\"Variables de flujo\", 20], [\"Variables de reacción\", 7], [\"Ecuaciones de balance\", 10],\n",
    "                  [\"Caudales especificados\", 1 ], [\"Composiciones especificadas\", 9 ], [\"Relación entre variables\", 0 ], [\"GdL\", 7 ]]\n",
    "    print(tabulate(d, headers =['Títulos', 'PFR 2 y 3'], tablefmt='fancy_grid', stralign='center'))\n",
    "       \n",
    "def RindoTabla (b):\n",
    "    run_button.on_click(MostrarTabla)\n",
    "    display(run_button)\n",
    "    \n",
    "def RindoTabla2 (b):    \n",
    "    run_button2.on_click(MostrarTabla2)\n",
    "    display(run_button2)\n",
    "\n",
    "def TgLCompleto (b):\n",
    "    print(\"La tabla de grados de libertad para el proceso completo es la siguiente:\")\n",
    "    d = [[\"Variables de flujo\", 74], [\"Variables de reacción\", 21], [\"Ecuaciones de balance\", 60],\n",
    "                  [\"Caudales especificados\", 1 ], [\"Composiciones especificadas\", 1 ], [\"Relación entre variables\", 0 ], [\"GdL\", 33]]\n",
    "    print(tabulate(d, headers =['Títulos', 'Proceso'], tablefmt='fancy_grid', stralign='center'))\n",
    "    \n",
    "def MostrarEspecificaciones (b):\n",
    "    F1 = 6600\n",
    "    \n",
    "    variables = [\n",
    "    sym.var('F1_E F1_H2O'),\n",
    "    sym.var('F3_E F3_DEE F3_A F3_B F3_H2O F3_CO F3_CO2 F3_M F3_H F3_Et'),\n",
    "    sym.var('F15_E F15_DEE F15_A F15_B F15_H2O F15_CO F15_CO2 F15_M F15_H F15_Et'),\n",
    "    sym.var('F7 F7_E F7_DEE F7_A F7_B F7_H2O F7_CO F7_CO2 F7_M F7_H F7_Et'),\n",
    "    sym.var('F10 F10_E F10_DEE F10_A F10_B F10_H2O F10_CO F10_CO2 F10_M F10_H F10_Et'),\n",
    "    sym.var('F16_E F16_DEE F16_A F16_B F16_H2O F16_CO F16_CO2 F16_M F16_H F16_Et'),\n",
    "    ]\n",
    "\n",
    "    especificaciones = [\n",
    "      \n",
    "    #Corriente 3\n",
    "    sym.Eq(F3_E, 476.85),               \n",
    "    sym.Eq(F3_A, 0.13318300945366),     \n",
    "    sym.Eq(F3_DEE, 187.003743385105),   \n",
    "    sym.Eq(F3_CO, 0.03699528040380),    \n",
    "    sym.Eq(F3_B, 0.14058206553442),     \n",
    "    sym.Eq(F3_M, 0.04439433648455),     \n",
    "    sym.Eq(F3_Et, 798.680520000000),    \n",
    "    \n",
    "    #Corriente 15\n",
    "    sym.Eq(F15_E, 109),   \n",
    "    sym.Eq(F15_DEE, 0.31),\n",
    "    sym.Eq(F15_A, 0.3),\n",
    "    sym.Eq(F15_B, 0.005),\n",
    "    sym.Eq(F15_H2O, 490),\n",
    "    sym.Eq(F15_CO, 0),\n",
    "    sym.Eq(F15_CO2, 0.005),\n",
    "    sym.Eq(F15_M, 0),\n",
    "    sym.Eq(F15_H, 0),\n",
    "    sym.Eq(F15_Et, 0.8),\n",
    "    \n",
    "    #Corriente 7\n",
    "    sym.Eq(F7_E, F7*(2.8547/100)),         \n",
    "    sym.Eq(F7_A, F7*(0.0061/100)),         \n",
    "    sym.Eq(F7_DEE, F7*(0.5688/100)),       \n",
    "    sym.Eq(F7_CO, F7*(0.0009/100)),        \n",
    "    sym.Eq(F7_B, F7*(0.0108/100)),         \n",
    "    sym.Eq(F7_M, F7*(0.0011/100)),         \n",
    "    sym.Eq(F7_Et, F7*(16.4157/100)),       \n",
    "    \n",
    "    #Corriente 10 \n",
    "    sym.Eq(F10_E, F10*(1.2669/100)),        \n",
    "    sym.Eq(F10_A, F10*(0.0068/100)),        \n",
    "    sym.Eq(F10_DEE, F10*(0.0395/100)),      \n",
    "    sym.Eq(F10_CO, F10*(0.0025/100)),       \n",
    "    sym.Eq(F10_B, F10*(0.0566/100)),        \n",
    "    sym.Eq(F10_M, F10*(0.0034/100)),        \n",
    "    sym.Eq(F10_Et, F10*(18.4560/100)),      \n",
    "    \n",
    "    #Corriente 16\n",
    "    sym.Eq(F16_E, 0.026),   \n",
    "    sym.Eq(F16_H2O, 6591),  \n",
    "    \n",
    "    ]\n",
    "    \n",
    "    for eqn in especificaciones:\n",
    "        display(eqn)\n",
    "\n",
    "\n",
    "def TablaGradosLibertad1 (VF = 0, VR = 0, EB = 0, CE = 0, CompE = 0, RV = 0):\n",
    "    errores = 0\n",
    "    if VF != 12:\n",
    "        errores = errores + 1\n",
    "    if VR != 7:\n",
    "        errores = errores + 1\n",
    "    if EB != 10:\n",
    "        errores = errores + 1\n",
    "    if CE != 1:\n",
    "        errores = errores + 1\n",
    "    if CompE != 1:\n",
    "        errores = errores + 1\n",
    "    if RV != 0:\n",
    "        errores = errores + 1\n",
    "    if errores == 0:\n",
    "        print(\"¡Enhorabuena! ya se puede resolver el primer reactor!\")\n",
    "    elif errores > 0:\n",
    "        print(\"Hay \", errores, \"errores, por favor revisa los números introducidos\")\n",
    "\n",
    "TgL1 = interactive(TablaGradosLibertad1, {'manual': True}, VF=IntText(value=0, description='Var. flujo'), VR = IntText(value=0, description = 'Var. reac'), EB=IntText(value=0, description='Ec. balance'), CE=IntText(value=0, description='Caud. espe.'), CompE=IntText(value=0, description='Comp. espe.'), RV=IntText(value=0, description='Relación var.'))\n",
    "\n",
    "def TablaGradosLibertad2 (VF = 0, VR = 0, EB = 0, CE = 0, CompE = 0, RV = 0):\n",
    "    errores = 0\n",
    "    if VF != 20:\n",
    "        errores = errores + 1\n",
    "    if VR != 7:\n",
    "        errores = errores + 1\n",
    "    if EB != 10:\n",
    "        errores = errores + 1\n",
    "    if CE != 1:\n",
    "        errores = errores + 1\n",
    "    if CompE != 9:\n",
    "        errores = errores + 1\n",
    "    if RV != 0:\n",
    "        errores = errores + 1\n",
    "    if errores == 0:\n",
    "        print(\"¡Enhorabuena! ya se puede resolver los dos últimos reactores problema!\")\n",
    "    elif errores > 0:\n",
    "        print(\"Hay \", errores, \"errores, por favor revisa los números introducidos\")\n",
    "\n",
    "TgL2 = interactive(TablaGradosLibertad2, {'manual': True}, VF=IntText(value=0, description='Var. flujo'), VR = IntText(value=0, description = 'Var. reac'), EB=IntText(value=0, description='Ec. balance'), CE=IntText(value=0, description='Caud. espe.'), CompE=IntText(value=0, description='Comp. espe.'), RV=IntText(value=0, description='Relación var.'))\n",
    "\n",
    "\n",
    "pfr1 = interactive(PFR1, {'manual': True}, XE = FloatSlider(min = 0.72, max = 1., value = 0.72, step = 0.01, description ='Conversión'), caso = Dropdown(options=['Caudal', 'Porcentaje'], value = 'Caudal', description = 'Output'))\n",
    "   \n",
    "pfr2 = interactive(PFR2, {'manual': True}, XE = FloatSlider(min = 0.58, max = 1., value = 0.5802, step = 0.01, description ='Conversión'), caso = Dropdown(options=['Caudal', 'Porcentaje'], value = 'Caudal', description = 'Output'))\n",
    "       \n",
    "pfr3 = interactive(PFR3, {'manual': True}, XE = FloatSlider(min = 0.55, max = 1., value = 0.5448, step = 0.01, description = 'Conversión'), caso = Dropdown(options=['Caudal', 'Porcentaje'], value = 'Caudal', description = 'Output'))\n",
    "\n",
    "ProcesoCompleto = interactive(ProcesoC, {'manual': True}, \n",
    "               XE1 = FloatSlider(min = 0., max = 1., value = 0.711, step = 0.01, description = 'X PFR 1'),\n",
    "               XE2 = FloatSlider(min = 0., max = 1., value = 0.5802, step = 0.01, description = 'X PFR 2'),\n",
    "               XE3 = FloatSlider(min = 0., max = 1., value = 0.5449, step = 0.01, description = 'X PFR 3'),\n",
    "               caso = Dropdown(options =['C3', 'C4', 'C7', 'C10', 'C12', 'C13', 'C15', 'C16', 'grad1', 'grad2', 'grad3'], value = 'C3',\n",
    "                               description = 'Output'))  \n"
   ]
  },
  {
   "cell_type": "code",
   "execution_count": 13,
   "id": "2af1078a",
   "metadata": {},
   "outputs": [
    {
     "data": {
      "application/vnd.jupyter.widget-view+json": {
       "model_id": "c2ab1201550e4c7e83107bb5726ce20e",
       "version_major": 2,
       "version_minor": 0
      },
      "text/plain": [
       "interactive(children=(IntText(value=0, description='Var. flujo'), IntText(value=0, description='Var. reac'), I…"
      ]
     },
     "metadata": {},
     "output_type": "display_data"
    }
   ],
   "source": [
    "display(TgL1)"
   ]
  },
  {
   "cell_type": "code",
   "execution_count": 14,
   "id": "fba7eef5",
   "metadata": {},
   "outputs": [
    {
     "data": {
      "application/vnd.jupyter.widget-view+json": {
       "model_id": "4a15f6ea60264bd09543f189125d1924",
       "version_major": 2,
       "version_minor": 0
      },
      "text/plain": [
       "Button(description='Mostrar', style=ButtonStyle())"
      ]
     },
     "metadata": {},
     "output_type": "display_data"
    }
   ],
   "source": [
    "RindoTabla('')"
   ]
  },
  {
   "cell_type": "code",
   "execution_count": 15,
   "id": "7f797f66",
   "metadata": {},
   "outputs": [
    {
     "data": {
      "application/vnd.jupyter.widget-view+json": {
       "model_id": "a03c36a2073e402990c4abc9767ccfa3",
       "version_major": 2,
       "version_minor": 0
      },
      "text/plain": [
       "interactive(children=(FloatSlider(value=0.72, description='Conversión', max=1.0, min=0.72, step=0.01), Dropdow…"
      ]
     },
     "metadata": {},
     "output_type": "display_data"
    }
   ],
   "source": [
    "display(pfr1)"
   ]
  },
  {
   "cell_type": "code",
   "execution_count": 16,
   "id": "25154749",
   "metadata": {},
   "outputs": [
    {
     "data": {
      "application/vnd.jupyter.widget-view+json": {
       "model_id": "7e2cc08d4b06471fb1c2a2df00fac1c6",
       "version_major": 2,
       "version_minor": 0
      },
      "text/plain": [
       "interactive(children=(IntText(value=0, description='Var. flujo'), IntText(value=0, description='Var. reac'), I…"
      ]
     },
     "metadata": {},
     "output_type": "display_data"
    }
   ],
   "source": [
    "display(TgL2)"
   ]
  },
  {
   "cell_type": "code",
   "execution_count": 17,
   "id": "f0ce02ea",
   "metadata": {},
   "outputs": [
    {
     "data": {
      "application/vnd.jupyter.widget-view+json": {
       "model_id": "a50f153bfe0346e6a817abee2a08edab",
       "version_major": 2,
       "version_minor": 0
      },
      "text/plain": [
       "Button(description='Mostrar', style=ButtonStyle())"
      ]
     },
     "metadata": {},
     "output_type": "display_data"
    }
   ],
   "source": [
    "RindoTabla2('')"
   ]
  },
  {
   "cell_type": "code",
   "execution_count": 18,
   "id": "681fad2f",
   "metadata": {},
   "outputs": [
    {
     "data": {
      "application/vnd.jupyter.widget-view+json": {
       "model_id": "129ed6238c9b428d9835efab37e8c22f",
       "version_major": 2,
       "version_minor": 0
      },
      "text/plain": [
       "interactive(children=(FloatSlider(value=0.5802, description='Conversión', max=1.0, min=0.58, step=0.01), Dropd…"
      ]
     },
     "metadata": {},
     "output_type": "display_data"
    }
   ],
   "source": [
    "display(pfr2)"
   ]
  },
  {
   "cell_type": "code",
   "execution_count": 19,
   "id": "70a0d127",
   "metadata": {},
   "outputs": [
    {
     "data": {
      "application/vnd.jupyter.widget-view+json": {
       "model_id": "408cdb61ec9944a3894fc42d1206c62f",
       "version_major": 2,
       "version_minor": 0
      },
      "text/plain": [
       "interactive(children=(FloatSlider(value=0.55, description='Conversión', max=1.0, min=0.55, step=0.01), Dropdow…"
      ]
     },
     "metadata": {},
     "output_type": "display_data"
    }
   ],
   "source": [
    "display(pfr3)"
   ]
  },
  {
   "cell_type": "code",
   "execution_count": 21,
   "id": "78778376",
   "metadata": {},
   "outputs": [
    {
     "name": "stdout",
     "output_type": "stream",
     "text": [
      "La tabla de grados de libertad para el proceso completo es la siguiente:\n",
      "╒═════════════════════════════╤═══════════╕\n",
      "│           Títulos           │   Proceso │\n",
      "╞═════════════════════════════╪═══════════╡\n",
      "│     Variables de flujo      │        74 │\n",
      "├─────────────────────────────┼───────────┤\n",
      "│    Variables de reacción    │        21 │\n",
      "├─────────────────────────────┼───────────┤\n",
      "│    Ecuaciones de balance    │        60 │\n",
      "├─────────────────────────────┼───────────┤\n",
      "│   Caudales especificados    │         1 │\n",
      "├─────────────────────────────┼───────────┤\n",
      "│ Composiciones especificadas │         1 │\n",
      "├─────────────────────────────┼───────────┤\n",
      "│  Relación entre variables   │         0 │\n",
      "├─────────────────────────────┼───────────┤\n",
      "│             GdL             │        33 │\n",
      "╘═════════════════════════════╧═══════════╛\n"
     ]
    }
   ],
   "source": [
    "TgLCompleto('')"
   ]
  },
  {
   "cell_type": "code",
   "execution_count": null,
   "id": "92bad872",
   "metadata": {},
   "outputs": [],
   "source": [
    "MostrarEspecificaciones('')"
   ]
  },
  {
   "cell_type": "code",
   "execution_count": 20,
   "id": "2bd4557d",
   "metadata": {},
   "outputs": [
    {
     "data": {
      "application/vnd.jupyter.widget-view+json": {
       "model_id": "62a968a6f8a54b079bfbd41474a63727",
       "version_major": 2,
       "version_minor": 0
      },
      "text/plain": [
       "interactive(children=(FloatSlider(value=0.711, description='X PFR 1', max=1.0, step=0.01), FloatSlider(value=0…"
      ]
     },
     "metadata": {},
     "output_type": "display_data"
    }
   ],
   "source": [
    "display(ProcesoCompleto)"
   ]
  },
  {
   "cell_type": "code",
   "execution_count": null,
   "id": "53e36bb0",
   "metadata": {},
   "outputs": [],
   "source": []
  }
 ],
 "metadata": {
  "kernelspec": {
   "display_name": "Python 3 (ipykernel)",
   "language": "python",
   "name": "python3"
  },
  "language_info": {
   "codemirror_mode": {
    "name": "ipython",
    "version": 3
   },
   "file_extension": ".py",
   "mimetype": "text/x-python",
   "name": "python",
   "nbconvert_exporter": "python",
   "pygments_lexer": "ipython3",
   "version": "3.9.7"
  }
 },
 "nbformat": 4,
 "nbformat_minor": 5
}
